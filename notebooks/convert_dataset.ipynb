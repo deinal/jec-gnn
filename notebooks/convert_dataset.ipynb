{
 "cells": [
  {
   "cell_type": "code",
   "execution_count": 1,
   "metadata": {},
   "outputs": [],
   "source": [
    "import os\n",
    "import glob\n",
    "import pickle\n",
    "import itertools\n",
    "import awkward as ak\n",
    "import numpy as np\n",
    "import tensorflow as tf"
   ]
  },
  {
   "cell_type": "code",
   "execution_count": 2,
   "metadata": {},
   "outputs": [],
   "source": [
    "from coffea.nanoevents import NanoEventsFactory, PFNanoAODSchema\n",
    "PFNanoAODSchema.warn_missing_crossrefs = False\n",
    "import warnings"
   ]
  },
  {
   "cell_type": "code",
   "execution_count": 3,
   "metadata": {},
   "outputs": [],
   "source": [
    "data_dir = '/eos/cms/store/group/phys_jetmet/dholmber/jec-dnn'"
   ]
  },
  {
   "cell_type": "code",
   "execution_count": 4,
   "metadata": {},
   "outputs": [],
   "source": [
    "in_dir = os.path.join(data_dir, 'raw/dev')\n",
    "out_dir = os.path.join(data_dir, 'preprocessed/dev')\n",
    "\n",
    "root_files = glob.glob(os.path.join(in_dir, '*.root'))\n",
    "num_files = len(root_files)"
   ]
  },
  {
   "cell_type": "code",
   "execution_count": 5,
   "metadata": {},
   "outputs": [],
   "source": [
    "try:\n",
    "    os.makedirs(out_dir)\n",
    "except FileExistsError:\n",
    "    pass"
   ]
  },
  {
   "cell_type": "code",
   "execution_count": 6,
   "metadata": {},
   "outputs": [],
   "source": [
    "events = NanoEventsFactory.from_root(os.path.join(in_dir, '1.root'), schemaclass=PFNanoAODSchema).events()"
   ]
  },
  {
   "cell_type": "code",
   "execution_count": 7,
   "metadata": {},
   "outputs": [],
   "source": [
    "all_jet_fields = list(filter(lambda field: 'IdxG' not in field, events.Jet.fields)) + ['log_pt']\n",
    "all_pf_fields = list(filter(lambda field: 'IdxG' not in field, events.Jet.constituents.pf.fields)) + ['rel_eta', 'rel_phi', 'rel_pt']\n",
    "\n",
    "all_jet_keys = [f'jet_{field}' for field in all_jet_fields]\n",
    "all_pf_keys = [f'pf_{field}' for field in all_pf_fields]"
   ]
  },
  {
   "cell_type": "code",
   "execution_count": 8,
   "metadata": {},
   "outputs": [],
   "source": [
    "def read_nanoaod(path):\n",
    "    with warnings.catch_warnings():\n",
    "        warnings.filterwarnings('ignore', message='found duplicate branch')\n",
    "        events = NanoEventsFactory.from_root(path, schemaclass=PFNanoAODSchema).events()\n",
    "\n",
    "    jets = events.Jet[(ak.count(events.Jet.matched_gen.pt, axis=1) >= 2)]\n",
    "\n",
    "    sorted_jets = jets[ak.argsort(jets.matched_gen.pt, ascending=False, axis=1)]\n",
    "\n",
    "    leading_jets = ak.concatenate((sorted_jets[:,0], sorted_jets[:,1]), axis=0)\n",
    "\n",
    "    selected_jets = leading_jets[(leading_jets.matched_gen.pt > 30) & (abs(leading_jets.matched_gen.eta) < 5)]\n",
    "\n",
    "    valid_jets = selected_jets[~ak.is_none(selected_jets.matched_gen.pt)]\n",
    "\n",
    "    for field in ['dz', 'dzErr', 'd0', 'd0Err']:\n",
    "        valid_jets = valid_jets[ak.all(valid_jets.constituents.pf[field] != np.inf, axis=1)]\n",
    "\n",
    "    return valid_jets, valid_jets.constituents.pf"
   ]
  },
  {
   "cell_type": "code",
   "execution_count": 9,
   "metadata": {},
   "outputs": [],
   "source": [
    "def preprocess(jet, pf):\n",
    "    jet['target'] = jet.matched_gen.pt / jet.pt\n",
    "    jet['log_pt'] = np.log(jet.pt)\n",
    "    pf['rel_eta'] = (pf.eta - jet.eta) * np.sign(jet.eta)\n",
    "    pf['rel_pt'] = pf.pt / jet.pt\n",
    "    pf['rel_phi'] = (pf.phi - jet.phi + np.pi) % (2 * np.pi) - np.pi\n",
    "    return jet, pf"
   ]
  },
  {
   "cell_type": "code",
   "execution_count": 19,
   "metadata": {},
   "outputs": [],
   "source": [
    "def float_feature(value):\n",
    "  \"\"\"Returns a float_list from a float / double.\"\"\"\n",
    "  return tf.train.Feature(float_list=tf.train.FloatList(value=value))"
   ]
  },
  {
   "cell_type": "code",
   "execution_count": 20,
   "metadata": {},
   "outputs": [],
   "source": [
    "def int64_feature(value):\n",
    "    \"\"\"Returns an int64_list from a bool / enum / int / uint.\"\"\"\n",
    "    return tf.train.Feature(int64_list=tf.train.Int64List(value=value))"
   ]
  },
  {
   "cell_type": "code",
   "execution_count": 107,
   "metadata": {},
   "outputs": [],
   "source": [
    "def serialize_example(jet_row, pf_row, target_value, row_lengths):\n",
    "    \"\"\"\n",
    "    Creates a tf.train.Example message ready to be written to a file.\n",
    "    \"\"\"\n",
    "    # Create a dictionary mapping the feature name to the tf.train.Example-compatible\n",
    "    # data type.\n",
    "    \n",
    "    jet_dict = {key: float_feature([value]) for key, value in zip(all_jet_keys, jet_row)}\n",
    "    pf_dict = {key: float_feature(values) for key, values in zip(all_pf_keys, tf.transpose(pf_row))}\n",
    "    \n",
    "    feature = {'row_lengths': int64_feature([row_lengths]), 'target': float_feature([target_value])}\n",
    "    feature.update(jet_dict)\n",
    "    feature.update(pf_dict)\n",
    "    \n",
    "    # Create a Features message using tf.train.Example.\n",
    "    example_proto = tf.train.Example(features=tf.train.Features(feature=feature))\n",
    "    return example_proto.SerializeToString()"
   ]
  },
  {
   "cell_type": "code",
   "execution_count": 108,
   "metadata": {},
   "outputs": [],
   "source": [
    "def create_record(root_file, record_file):\n",
    "    print(record_file + '\\n')\n",
    "    \n",
    "    jet, pf = read_nanoaod(root_file)\n",
    "    jet, pf = preprocess(jet, pf)\n",
    "    \n",
    "    row_lengths = ak.num(pf, axis=1)\n",
    "    flat_pf = ak.flatten(pf, axis=1)\n",
    "    \n",
    "    jet_tensor = tf.stack([tf.constant(jet[field], dtype=tf.float32) for field in all_jet_fields], axis=1)\n",
    "    pf_tensor = tf.stack([tf.RaggedTensor.from_row_lengths(np.array(flat_pf[field]).astype(np.float32), row_lengths=row_lengths) for field in all_pf_fields], axis=2)\n",
    "    target_tensor = tf.constant(jet.target)\n",
    "    \n",
    "    with tf.io.TFRecordWriter(record_file) as writer:\n",
    "        for i in range(target_tensor.shape[0]):\n",
    "            example = serialize_example(jet_tensor[i], pf_tensor[i], target_tensor[i], row_lengths[i])\n",
    "            writer.write(example)"
   ]
  },
  {
   "cell_type": "code",
   "execution_count": 109,
   "metadata": {},
   "outputs": [],
   "source": [
    "root_names = [os.path.basename(file) for file in root_files]\n",
    "record_names = [f'{os.path.splitext(file)[0]}.tfrecords' for file in root_names]\n",
    "record_files = [os.path.join(out_dir, record_name) for record_name in record_names]"
   ]
  },
  {
   "cell_type": "code",
   "execution_count": 110,
   "metadata": {},
   "outputs": [
    {
     "name": "stdout",
     "output_type": "stream",
     "text": [
      "/eos/cms/store/group/phys_jetmet/dholmber/jec-dnn/preprocessed/dev/1.tfrecords\n",
      "\n",
      "/eos/cms/store/group/phys_jetmet/dholmber/jec-dnn/preprocessed/dev/2.tfrecords\n",
      "\n",
      "/eos/cms/store/group/phys_jetmet/dholmber/jec-dnn/preprocessed/dev/3.tfrecords\n",
      "\n",
      "/eos/cms/store/group/phys_jetmet/dholmber/jec-dnn/preprocessed/dev/4.tfrecords\n",
      "\n",
      "/eos/cms/store/group/phys_jetmet/dholmber/jec-dnn/preprocessed/dev/5.tfrecords\n",
      "\n"
     ]
    }
   ],
   "source": [
    "for i in range(len(root_files)):\n",
    "    create_record(root_files[i], record_files[i])"
   ]
  },
  {
   "cell_type": "code",
   "execution_count": 25,
   "metadata": {},
   "outputs": [],
   "source": [
    "# import multiprocessing\n",
    "# with multiprocessing.Pool(processes=2) as pool:\n",
    "#     pool.starmap(create_record, list(zip(root_files, record_files)))"
   ]
  },
  {
   "cell_type": "code",
   "execution_count": 116,
   "metadata": {},
   "outputs": [
    {
     "name": "stdout",
     "output_type": "stream",
     "text": [
      "/eos/cms/store/group/phys_jetmet/dholmber/jec-dnn/preprocessed/dev/1.tfrecords\n",
      "\n",
      "/eos/cms/store/group/phys_jetmet/dholmber/jec-dnn/preprocessed/dev/2.tfrecords\n",
      "\n",
      "/eos/cms/store/group/phys_jetmet/dholmber/jec-dnn/preprocessed/dev/3.tfrecords\n",
      "\n",
      "/eos/cms/store/group/phys_jetmet/dholmber/jec-dnn/preprocessed/dev/4.tfrecords\n",
      "\n",
      "/eos/cms/store/group/phys_jetmet/dholmber/jec-dnn/preprocessed/dev/5.tfrecords\n",
      "\n"
     ]
    }
   ],
   "source": [
    "from concurrent.futures import ThreadPoolExecutor\n",
    "with ThreadPoolExecutor(max_workers=2) as executor:\n",
    "    results = executor.map(create_record, root_files, record_files)"
   ]
  },
  {
   "cell_type": "code",
   "execution_count": 115,
   "metadata": {},
   "outputs": [
    {
     "name": "stdout",
     "output_type": "stream",
     "text": [
      "              total        used        free      shared  buff/cache   available\n",
      "Mem:          15629        5967         303          37        9359        9351\n",
      "Swap:             0           0           0\n"
     ]
    }
   ],
   "source": [
    "!free -m"
   ]
  },
  {
   "cell_type": "code",
   "execution_count": 62,
   "metadata": {},
   "outputs": [],
   "source": [
    "features = {\n",
    "    'target': tf.io.FixedLenFeature([], dtype=tf.float32, default_value=0.0),\n",
    "    'row_lengths': tf.io.FixedLenFeature([], dtype=tf.int64, default_value=0)\n",
    "}\n",
    "for key in all_jet_keys:\n",
    "    features[key] = tf.io.FixedLenFeature([], dtype=tf.float32, default_value=0.0)\n",
    "for key in all_pf_keys:\n",
    "    features[key] = tf.io.VarLenFeature(dtype=tf.float32)\n",
    "\n",
    "with open(os.path.join(out_dir, 'metadata.pkl'), 'wb') as f:\n",
    "    pickle.dump(features, f)"
   ]
  }
 ],
 "metadata": {
  "kernelspec": {
   "display_name": "Python 3",
   "language": "python",
   "name": "python3"
  },
  "kubeflow_notebook": {
   "autosnapshot": false,
   "docker_image": "gitlab-registry.cern.ch/ai-ml/kubeflow_images/tensorflow-notebook-gpu-2.1.0:v0.6.1-30",
   "experiment": {
    "id": "",
    "name": ""
   },
   "experiment_name": "",
   "katib_metadata": {
    "algorithm": {
     "algorithmName": "grid"
    },
    "maxFailedTrialCount": 3,
    "maxTrialCount": 12,
    "objective": {
     "objectiveMetricName": "",
     "type": "minimize"
    },
    "parallelTrialCount": 3,
    "parameters": []
   },
   "katib_run": false,
   "pipeline_description": "",
   "pipeline_name": "",
   "snapshot_volumes": false,
   "steps_defaults": [],
   "volume_access_mode": "rwm",
   "volumes": []
  },
  "language_info": {
   "codemirror_mode": {
    "name": "ipython",
    "version": 3
   },
   "file_extension": ".py",
   "mimetype": "text/x-python",
   "name": "python",
   "nbconvert_exporter": "python",
   "pygments_lexer": "ipython3",
   "version": "3.6.9"
  }
 },
 "nbformat": 4,
 "nbformat_minor": 4
}
