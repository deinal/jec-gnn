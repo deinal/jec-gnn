{
 "cells": [
  {
   "cell_type": "code",
   "execution_count": 1,
   "metadata": {},
   "outputs": [],
   "source": [
    "import os\n",
    "import glob\n",
    "import json\n",
    "import awkward as ak\n",
    "import numpy as np\n",
    "import pandas as pd\n",
    "from concurrent.futures import ProcessPoolExecutor\n",
    "import itertools"
   ]
  },
  {
   "cell_type": "code",
   "execution_count": 2,
   "metadata": {},
   "outputs": [],
   "source": [
    "from coffea.nanoevents import NanoEventsFactory, PFNanoAODSchema\n",
    "PFNanoAODSchema.warn_missing_crossrefs = False\n",
    "import warnings"
   ]
  },
  {
   "cell_type": "code",
   "execution_count": 3,
   "metadata": {},
   "outputs": [],
   "source": [
    "data_dir = '/eos/cms/store/group/phys_jetmet/dholmber/jec-dnn'"
   ]
  },
  {
   "cell_type": "code",
   "execution_count": 4,
   "metadata": {},
   "outputs": [],
   "source": [
    "in_dir = os.path.join(data_dir, 'raw/dev')\n",
    "out_dir = os.path.join(data_dir, 'preprocessed/dev')\n",
    "\n",
    "root_files = glob.glob(os.path.join(in_dir, '*.root'))\n",
    "num_files = len(root_files)"
   ]
  },
  {
   "cell_type": "code",
   "execution_count": 5,
   "metadata": {},
   "outputs": [],
   "source": [
    "try:\n",
    "    os.makedirs(out_dir)\n",
    "except FileExistsError:\n",
    "    pass"
   ]
  },
  {
   "cell_type": "code",
   "execution_count": 6,
   "metadata": {},
   "outputs": [],
   "source": [
    "events = NanoEventsFactory.from_root(os.path.join(data_dir, 'raw/dev/1.root'), schemaclass=PFNanoAODSchema).events()"
   ]
  },
  {
   "cell_type": "code",
   "execution_count": 8,
   "metadata": {},
   "outputs": [],
   "source": [
    "all_jet_fields = list(filter(lambda field: 'IdxG' not in field, events.Jet.fields)) + ['target', 'log_pt']\n",
    "all_pf_fields = list(filter(lambda field: 'IdxG' not in field, events.Jet.constituents.pf.fields)) + ['rel_eta', 'rel_phi', 'rel_pt']\n",
    "\n",
    "all_jet_keys = [f'jet_{field}' for field in all_jet_fields]\n",
    "all_pf_keys = [f'pf_{field}' for field in all_pf_fields]"
   ]
  },
  {
   "cell_type": "code",
   "execution_count": 9,
   "metadata": {},
   "outputs": [],
   "source": [
    "def read_nanoaod(path):\n",
    "    with warnings.catch_warnings():\n",
    "        warnings.filterwarnings('ignore', message='found duplicate branch')\n",
    "        events = NanoEventsFactory.from_root(path, schemaclass=PFNanoAODSchema).events()\n",
    "\n",
    "    jets = events.Jet[(ak.count(events.Jet.matched_gen.pt, axis=1) >= 2)]\n",
    "\n",
    "    sorted_jets = jets[ak.argsort(jets.matched_gen.pt, ascending=False, axis=1)]\n",
    "\n",
    "    leading_jets = ak.concatenate((sorted_jets[:,0], sorted_jets[:,1]), axis=0)\n",
    "\n",
    "    selected_jets = leading_jets[(leading_jets.matched_gen.pt > 30) & (abs(leading_jets.matched_gen.eta) < 5)]\n",
    "\n",
    "    valid_jets = selected_jets[~ak.is_none(selected_jets.matched_gen.pt)]\n",
    "\n",
    "    for field in ['dz', 'dzErr', 'd0', 'd0Err']:\n",
    "        valid_jets = valid_jets[ak.all(valid_jets.constituents.pf[field] != np.inf, axis=1)]\n",
    "\n",
    "    return valid_jets, valid_jets.constituents.pf"
   ]
  },
  {
   "cell_type": "code",
   "execution_count": 10,
   "metadata": {},
   "outputs": [],
   "source": [
    "def preprocess(jet, pf):\n",
    "    jet['target'] = jet.matched_gen.pt / jet.pt\n",
    "    jet['log_pt'] = np.log(jet.pt)\n",
    "    pf['rel_eta'] = (pf.eta - jet.eta) * np.sign(jet.eta)\n",
    "    pf['rel_pt'] = pf.pt / jet.pt\n",
    "    pf['rel_phi'] = (pf.phi - jet.phi + np.pi) % (2 * np.pi) - np.pi\n",
    "    return jet, pf"
   ]
  },
  {
   "cell_type": "code",
   "execution_count": null,
   "metadata": {},
   "outputs": [],
   "source": [
    "def create_dataset(root_file, parquet_dir):\n",
    "    print(parquet_dir + '\\n')\n",
    "    \n",
    "    jet, pf = read_nanoaod(root_file)\n",
    "    jet, pf = preprocess(jet, pf)\n",
    "    \n",
    "    try:\n",
    "        os.makedirs(parquet_dir)\n",
    "    except FileExistsError:\n",
    "        pass\n",
    "    \n",
    "    ak.to_parquet(jet, os.path.join(parquet_dir, 'jet.parquet'))\n",
    "    ak.to_parquet(pf, os.path.join(parquet_dir, 'pf.parquet'))"
   ]
  },
  {
   "cell_type": "code",
   "execution_count": null,
   "metadata": {},
   "outputs": [],
   "source": [
    "with ProcessPoolExecutor(max_workers=None) as executor:\n",
    "    parquet_dirs = ['/'.join((path, str(index))) for index, path in enumerate(itertools.repeat(out_dir, num_files), start=1)]\n",
    "    results = executor.map(create_dataset, root_files, parquet_dirs)"
   ]
  },
  {
   "cell_type": "markdown",
   "metadata": {
    "tags": []
   },
   "source": [
    "## Testing TFRecord"
   ]
  },
  {
   "cell_type": "code",
   "execution_count": null,
   "metadata": {},
   "outputs": [],
   "source": [
    "jet, pf = read_nanoaod(root_files[0])"
   ]
  },
  {
   "cell_type": "code",
   "execution_count": 12,
   "metadata": {},
   "outputs": [],
   "source": [
    "import tensorflow as tf"
   ]
  },
  {
   "cell_type": "code",
   "execution_count": 13,
   "metadata": {},
   "outputs": [],
   "source": [
    "def float_feature(value):\n",
    "  \"\"\"Returns a float_list from a float / double.\"\"\"\n",
    "  return tf.train.Feature(float_list=tf.train.FloatList(value=value))"
   ]
  },
  {
   "cell_type": "code",
   "execution_count": 14,
   "metadata": {},
   "outputs": [],
   "source": [
    "def int64_feature(value):\n",
    "    \"\"\"Returns an int64_list from a bool / enum / int / uint.\"\"\"\n",
    "    return tf.train.Feature(int64_list=tf.train.Int64List(value=value))"
   ]
  },
  {
   "cell_type": "code",
   "execution_count": 15,
   "metadata": {},
   "outputs": [],
   "source": [
    "def serialize_example(jet, flat_pf, row_lengths):\n",
    "    \"\"\"\n",
    "    Creates a tf.train.Example message ready to be written to a file.\n",
    "    \"\"\"\n",
    "    # Create a dictionary mapping the feature name to the tf.train.Example-compatible\n",
    "    # data type.\n",
    "    \n",
    "    jet_dict = {key: float_feature(value) for key, value in zip(all_jet_keys, ak.unzip(jet[all_jet_fields]))}\n",
    "    pf_dict = {key: float_feature(value) for key, value in zip(all_pf_keys, ak.unzip(flat_pf[all_pf_fields]))}\n",
    "    \n",
    "    feature = {'row_lengths': int64_feature(row_lengths)}\n",
    "    feature.update(jet_dict)\n",
    "    feature.update(pf_dict)\n",
    "    \n",
    "    # Create a Features message using tf.train.Example.\n",
    "    example_proto = tf.train.Example(features=tf.train.Features(feature=feature))\n",
    "    return example_proto.SerializeToString()"
   ]
  },
  {
   "cell_type": "code",
   "execution_count": 16,
   "metadata": {},
   "outputs": [],
   "source": [
    "def create_record(root_file, record_file):\n",
    "    print(record_file + '\\n')\n",
    "    \n",
    "    jet, pf = read_nanoaod(root_file)\n",
    "    jet, pf = preprocess(jet, pf)\n",
    "    \n",
    "    row_lengths = ak.num(pf, axis=1)\n",
    "    flat_pf = ak.flatten(pf, axis=1)\n",
    "\n",
    "    ex = serialize_example(jet, flat_pf, row_lengths)\n",
    "    \n",
    "    with tf.io.TFRecordWriter(record_file) as writer:\n",
    "        writer.write(ex)"
   ]
  },
  {
   "cell_type": "code",
   "execution_count": 17,
   "metadata": {},
   "outputs": [],
   "source": [
    "root_names = [os.path.basename(file) for file in root_files]\n",
    "record_names = [f'{os.path.splitext(file)[0]}.tfrecords' for file in root_names]\n",
    "record_files = [os.path.join(out_dir, record_name) for record_name in record_names]"
   ]
  },
  {
   "cell_type": "code",
   "execution_count": 18,
   "metadata": {},
   "outputs": [
    {
     "name": "stdout",
     "output_type": "stream",
     "text": [
      "/eos/cms/store/group/phys_jetmet/dholmber/jec-dnn/preprocessed/dev/1.tfrecords\n",
      "/eos/cms/store/group/phys_jetmet/dholmber/jec-dnn/preprocessed/dev/2.tfrecords\n",
      "/eos/cms/store/group/phys_jetmet/dholmber/jec-dnn/preprocessed/dev/4.tfrecords\n",
      "\n",
      "\n",
      "/eos/cms/store/group/phys_jetmet/dholmber/jec-dnn/preprocessed/dev/3.tfrecords\n",
      "\n",
      "\n",
      "/eos/cms/store/group/phys_jetmet/dholmber/jec-dnn/preprocessed/dev/5.tfrecords\n",
      "\n"
     ]
    }
   ],
   "source": [
    "with ProcessPoolExecutor(max_workers=None) as executor:\n",
    "    results = executor.map(create_record, root_files, record_files)"
   ]
  },
  {
   "cell_type": "code",
   "execution_count": 19,
   "metadata": {},
   "outputs": [
    {
     "data": {
      "text/plain": [
       "[None, None, None, None, None]"
      ]
     },
     "execution_count": 19,
     "metadata": {},
     "output_type": "execute_result"
    }
   ],
   "source": [
    "list(results)"
   ]
  },
  {
   "cell_type": "code",
   "execution_count": 20,
   "metadata": {},
   "outputs": [],
   "source": [
    "record_files = glob.glob(os.path.join(out_dir, '*.tfrecords'))"
   ]
  },
  {
   "cell_type": "code",
   "execution_count": 24,
   "metadata": {},
   "outputs": [],
   "source": [
    "raw_ds = tf.data.TFRecordDataset(filenames=[record_files])"
   ]
  },
  {
   "cell_type": "code",
   "execution_count": 22,
   "metadata": {},
   "outputs": [],
   "source": [
    "features = {}\n",
    "for key in all_jet_keys:\n",
    "    features[key] = tf.io.VarLenFeature(dtype=tf.float32)\n",
    "for key in all_pf_keys:\n",
    "    features[key] = tf.io.VarLenFeature(dtype=tf.float32)\n",
    "features['row_length'] = tf.io.VarLenFeature(dtype=tf.int64)\n",
    "\n",
    "def parse_record(example_proto):\n",
    "    return tf.io.parse_single_example(example_proto, features=features)"
   ]
  },
  {
   "cell_type": "code",
   "execution_count": 25,
   "metadata": {},
   "outputs": [],
   "source": [
    "parsed_ds = raw_ds.map(parse_record)"
   ]
  },
  {
   "cell_type": "code",
   "execution_count": null,
   "metadata": {},
   "outputs": [],
   "source": [
    "def parse_example(raw_example):\n",
    "    example = tf.io.parse_single_example(raw_example, {\n",
    "        'vals': tf.io.VarLenFeature(dtype=tf.float32),\n",
    "        'lens': tf.io.VarLenFeature(dtype=tf.float32)\n",
    "    })\n",
    "    return tf.RaggedTensor.from_row_lengths(\n",
    "        example['vals'].values, row_lengths=example['lens'].values\n",
    "    )"
   ]
  },
  {
   "cell_type": "code",
   "execution_count": 62,
   "metadata": {},
   "outputs": [],
   "source": [
    "d = next(iter(parsed_ds))"
   ]
  },
  {
   "cell_type": "code",
   "execution_count": 63,
   "metadata": {},
   "outputs": [
    {
     "data": {
      "text/plain": [
       "dict_keys(['jet_DeepCSV_flightDistance2dSig', 'jet_DeepCSV_flightDistance2dVal', 'jet_DeepCSV_flightDistance3dSig', 'jet_DeepCSV_flightDistance3dVal', 'jet_DeepCSV_jetNSecondaryVertices', 'jet_DeepCSV_jetNSelectedTracks', 'jet_DeepCSV_jetNTracksEtaRel', 'jet_DeepCSV_trackDecayLenVal_0', 'jet_DeepCSV_trackDecayLenVal_1', 'jet_DeepCSV_trackDecayLenVal_2', 'jet_DeepCSV_trackDecayLenVal_3', 'jet_DeepCSV_trackDecayLenVal_4', 'jet_DeepCSV_trackDecayLenVal_5', 'jet_DeepCSV_trackDeltaR_0', 'jet_DeepCSV_trackDeltaR_1', 'jet_DeepCSV_trackDeltaR_2', 'jet_DeepCSV_trackDeltaR_3', 'jet_DeepCSV_trackDeltaR_4', 'jet_DeepCSV_trackDeltaR_5', 'jet_DeepCSV_trackEtaRel_0', 'jet_DeepCSV_trackEtaRel_1', 'jet_DeepCSV_trackEtaRel_2', 'jet_DeepCSV_trackEtaRel_3', 'jet_DeepCSV_trackJetDistVal_0', 'jet_DeepCSV_trackJetDistVal_1', 'jet_DeepCSV_trackJetDistVal_2', 'jet_DeepCSV_trackJetDistVal_3', 'jet_DeepCSV_trackJetDistVal_4', 'jet_DeepCSV_trackJetDistVal_5', 'jet_DeepCSV_trackJetPt', 'jet_DeepCSV_trackPtRatio_0', 'jet_DeepCSV_trackPtRatio_1', 'jet_DeepCSV_trackPtRatio_2', 'jet_DeepCSV_trackPtRatio_3', 'jet_DeepCSV_trackPtRatio_4', 'jet_DeepCSV_trackPtRatio_5', 'jet_DeepCSV_trackPtRel_0', 'jet_DeepCSV_trackPtRel_1', 'jet_DeepCSV_trackPtRel_2', 'jet_DeepCSV_trackPtRel_3', 'jet_DeepCSV_trackPtRel_4', 'jet_DeepCSV_trackPtRel_5', 'jet_DeepCSV_trackSip2dSigAboveCharm', 'jet_DeepCSV_trackSip2dSig_0', 'jet_DeepCSV_trackSip2dSig_1', 'jet_DeepCSV_trackSip2dSig_2', 'jet_DeepCSV_trackSip2dSig_3', 'jet_DeepCSV_trackSip2dSig_4', 'jet_DeepCSV_trackSip2dSig_5', 'jet_DeepCSV_trackSip2dValAboveCharm', 'jet_DeepCSV_trackSip3dSigAboveCharm', 'jet_DeepCSV_trackSip3dSig_0', 'jet_DeepCSV_trackSip3dSig_1', 'jet_DeepCSV_trackSip3dSig_2', 'jet_DeepCSV_trackSip3dSig_3', 'jet_DeepCSV_trackSip3dSig_4', 'jet_DeepCSV_trackSip3dSig_5', 'jet_DeepCSV_trackSip3dValAboveCharm', 'jet_DeepCSV_trackSumJetDeltaR', 'jet_DeepCSV_trackSumJetEtRatio', 'jet_DeepCSV_vertexCategory', 'jet_DeepCSV_vertexEnergyRatio', 'jet_DeepCSV_vertexJetDeltaR', 'jet_DeepCSV_vertexMass', 'jet_DeepCSV_vertexNTracks', 'jet_Proba', 'jet_area', 'jet_bRegCorr', 'jet_bRegRes', 'jet_btagCMVA', 'jet_btagCSVV2', 'jet_btagDeepB', 'jet_btagDeepB_b', 'jet_btagDeepB_bb', 'jet_btagDeepC', 'jet_btagDeepCvB', 'jet_btagDeepCvL', 'jet_btagDeepFlavB', 'jet_btagDeepFlavC', 'jet_btagDeepFlavCvB', 'jet_btagDeepFlavCvL', 'jet_btagDeepFlavG', 'jet_btagDeepFlavQG', 'jet_btagDeepFlavUDS', 'jet_btagDeepL', 'jet_cRegCorr', 'jet_cRegRes', 'jet_chEmEF', 'jet_chFPV0EF', 'jet_chFPV1EF', 'jet_chFPV2EF', 'jet_chFPV3EF', 'jet_chHEF', 'jet_cleanmask', 'jet_electronIdx1', 'jet_electronIdx1G', 'jet_electronIdx2', 'jet_electronIdx2G', 'jet_eta', 'jet_genJetIdx', 'jet_hadronFlavour', 'jet_hfEmEF', 'jet_hfHEF', 'jet_hfadjacentEtaStripsSize', 'jet_hfcentralEtaStripSize', 'jet_hfsigmaEtaEta', 'jet_hfsigmaPhiPhi', 'jet_jetId', 'jet_log_pt', 'jet_mass', 'jet_muEF', 'jet_muonIdx1', 'jet_muonIdx1G', 'jet_muonIdx2', 'jet_muonIdx2G', 'jet_muonSubtrFactor', 'jet_nBHadrons', 'jet_nCHadrons', 'jet_nConstChHads', 'jet_nConstElecs', 'jet_nConstHFEMs', 'jet_nConstHFHads', 'jet_nConstMuons', 'jet_nConstNeuHads', 'jet_nConstPhotons', 'jet_nConstituents', 'jet_nElectrons', 'jet_nMuons', 'jet_neEmEF', 'jet_neHEF', 'jet_particleNetAK4_B', 'jet_particleNetAK4_CvsB', 'jet_particleNetAK4_CvsL', 'jet_particleNetAK4_QvsG', 'jet_particleNetAK4_puIdDisc', 'jet_partonFlavour', 'jet_phi', 'jet_pt', 'jet_puId', 'jet_puIdDisc', 'jet_puId_beta', 'jet_puId_dR2Mean', 'jet_puId_frac01', 'jet_puId_frac02', 'jet_puId_frac03', 'jet_puId_frac04', 'jet_puId_jetR', 'jet_puId_jetRchg', 'jet_puId_majW', 'jet_puId_minW', 'jet_puId_nCharged', 'jet_puId_ptD', 'jet_puId_pull', 'jet_qgl', 'jet_qgl_axis2', 'jet_qgl_mult', 'jet_qgl_ptD', 'jet_rawFactor', 'jet_target', 'pf_charge', 'pf_d0', 'pf_d0Err', 'pf_dz', 'pf_dzErr', 'pf_eta', 'pf_lostInnerHits', 'pf_mass', 'pf_pdgId', 'pf_phi', 'pf_pt', 'pf_puppiWeight', 'pf_puppiWeightNoLep', 'pf_pvAssocQuality', 'pf_rel_eta', 'pf_rel_phi', 'pf_rel_pt', 'pf_trkChi2', 'pf_trkQuality', 'pf_vtxChi2', 'row_length'])"
      ]
     },
     "execution_count": 63,
     "metadata": {},
     "output_type": "execute_result"
    }
   ],
   "source": [
    "d.keys()"
   ]
  },
  {
   "cell_type": "code",
   "execution_count": 64,
   "metadata": {},
   "outputs": [
    {
     "data": {
      "text/plain": [
       "<tf.Tensor: shape=(200,), dtype=float32, numpy=\n",
       "array([1332. , 1524. , 1607. , 1676. , 1541. , 1515. , 1585. , 1213. ,\n",
       "       1581. , 1492. , 1514. , 1635. , 1760. , 1008. , 1468. , 1782. ,\n",
       "       1426. , 1480. , 1306. , 1637. , 1437. , 1484. , 1387. , 1430. ,\n",
       "       1317. , 1424. , 1391. , 1580. , 1410. , 1483. , 1487. , 1555. ,\n",
       "       1632. , 1553. , 1454. , 1707. , 1459. , 1377. , 1309. , 1548. ,\n",
       "       1489. , 1538. , 2064. , 1545. , 1392. , 1409. , 1433. , 1247. ,\n",
       "       1553. , 1717. , 1640. , 1555. , 1622. , 1517. , 1455. , 1560. ,\n",
       "       1486. , 1453. , 1489. , 1492. , 1651. , 1673. , 1493. , 1447. ,\n",
       "       1574. , 1511. , 1370. , 1611. , 1051. , 1677. , 1651. , 1504. ,\n",
       "       1495. , 1774. , 1568. , 1514. , 1731. , 1401. , 1581. , 1624. ,\n",
       "       1774. , 1782. , 1611. , 1298. , 1337. , 1667. , 1630. , 1459. ,\n",
       "       1776. , 1603. , 1470. , 1480. , 1653. , 1501. , 1475. , 1414. ,\n",
       "       1433. , 1748. , 1561. , 2025. , 1681. , 1380. , 1546. , 1411. ,\n",
       "       1604. , 1434. , 1492. , 1179. , 1349. , 1385. , 1520. , 1279. ,\n",
       "       1665. ,  930. , 1145. , 1795. , 1413. , 1360. , 1375. , 1111. ,\n",
       "       1301. , 1185. , 1418. , 1337. ,  906. ,  581.5, 1183. , 1264. ,\n",
       "        725. , 1271. , 1362. ,  980. , 1358. , 1426. , 1200. , 1354. ,\n",
       "       1290. , 1343. , 1222. , 1504. , 1449. , 1467. , 1934. , 1406. ,\n",
       "       1511. , 1132. , 1485. , 1297. , 1210. , 1152. , 1367. , 1737. ,\n",
       "       1212. , 1150. , 1388. , 1535. , 1495. , 1487. ,  868.5, 1438. ,\n",
       "       1511. , 1538. , 1345. , 1574. , 1586. , 1497. , 1646. , 1464. ,\n",
       "        972. , 1512. , 1339. , 1278. , 1593. , 1411. , 1524. , 1456. ,\n",
       "        940.5, 1401. , 1539. , 1366. , 1587. , 1409. , 1521. , 1442. ,\n",
       "       1251. , 1225. , 1579. , 1529. , 1163. , 1439. ,  674. , 1053. ,\n",
       "       1680. , 1493. ,  911. , 1220. , 1225. , 1467. , 1050. , 1393. ],\n",
       "      dtype=float32)>"
      ]
     },
     "execution_count": 64,
     "metadata": {},
     "output_type": "execute_result"
    }
   ],
   "source": [
    "d['jet_pt'].values"
   ]
  },
  {
   "cell_type": "code",
   "execution_count": 29,
   "metadata": {},
   "outputs": [],
   "source": [
    "jet_numerical = ['log_pt', 'eta', 'mass', 'phi', 'area', 'qgl_axis2', 'qgl_ptD', 'qgl_mult']\n",
    "jet_categorical = ['puId', 'partonFlavour']\n",
    "\n",
    "pf_numerical = ['rel_pt', 'rel_eta', 'rel_phi', 'd0', 'dz', 'd0Err', 'dzErr', 'trkChi2', 'vtxChi2', 'puppiWeight', 'puppiWeightNoLep']\n",
    "pf_categorical = ['charge', 'lostInnerHits', 'pdgId', 'pvAssocQuality', 'trkQuality']\n",
    "\n",
    "jet_fields = jet_numerical + jet_categorical\n",
    "pf_fields = pf_numerical + pf_categorical\n",
    "\n",
    "jet_keys = [f'jet_{field}' for field in jet_fields]\n",
    "pf_keys = [f'pf_{field}' for field in pf_fields]"
   ]
  },
  {
   "cell_type": "code",
   "execution_count": 55,
   "metadata": {},
   "outputs": [],
   "source": [
    "def select_features(data):\n",
    "    print(data['jet_pt'].values)\n",
    "    jet_data = tf.concat([tf.expand_dims(data[key].values, axis=1) for key in jet_keys], axis=1)\n",
    "    \n",
    "    pf_data = tf.concat([tf.expand_dims(data[key].values, axis=2) for key in pf_keys], axis=1)\n",
    "    \n",
    "    pf_data = tf.RaggedTensor.from_row_lengths(pf_data, row_lengths=data['row_lengths'])\n",
    "    \n",
    "    inputs = (pf_data, jet_data)\n",
    "    return inputs, data['target']"
   ]
  },
  {
   "cell_type": "code",
   "execution_count": 57,
   "metadata": {},
   "outputs": [],
   "source": [
    "# ds = parsed_ds.map(select_features)"
   ]
  }
 ],
 "metadata": {
  "kernelspec": {
   "display_name": "Python 3 (ipykernel)",
   "language": "python",
   "name": "python3"
  },
  "kubeflow_notebook": {
   "autosnapshot": false,
   "docker_image": "gitlab-registry.cern.ch/dholmber/jec-dnn:latest",
   "experiment": {
    "id": "",
    "name": ""
   },
   "experiment_name": "",
   "katib_metadata": {
    "algorithm": {
     "algorithmName": "grid"
    },
    "maxFailedTrialCount": 3,
    "maxTrialCount": 12,
    "objective": {
     "objectiveMetricName": "",
     "type": "minimize"
    },
    "parallelTrialCount": 3,
    "parameters": []
   },
   "katib_run": false,
   "pipeline_description": "",
   "pipeline_name": "",
   "snapshot_volumes": false,
   "steps_defaults": [],
   "volume_access_mode": "rwm",
   "volumes": []
  },
  "language_info": {
   "codemirror_mode": {
    "name": "ipython",
    "version": 3
   },
   "file_extension": ".py",
   "mimetype": "text/x-python",
   "name": "python",
   "nbconvert_exporter": "python",
   "pygments_lexer": "ipython3",
   "version": "3.8.0"
  }
 },
 "nbformat": 4,
 "nbformat_minor": 4
}
