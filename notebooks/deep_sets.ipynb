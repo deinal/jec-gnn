{
 "cells": [
  {
   "cell_type": "code",
   "execution_count": 1,
   "metadata": {},
   "outputs": [],
   "source": [
    "import tensorflow as tf\n",
    "import awkward as ak\n",
    "import numpy as np\n",
    "import pickle\n",
    "import glob\n",
    "import os"
   ]
  },
  {
   "cell_type": "code",
   "execution_count": 2,
   "metadata": {},
   "outputs": [],
   "source": [
    "# parquet_dir = os.path.join('/eos/cms/store/group/phys_jetmet/dholmber/jec-dnn/preprocessed/dev')\n",
    "\n",
    "parquet_dir = '/ssd-home/hdaniel/lab/jec-dnn/data/test'\n",
    "results_dir = '/ssd-home/hdaniel/lab/jec-dnn/results/notebook/deepset/1'"
   ]
  },
  {
   "cell_type": "code",
   "execution_count": 3,
   "metadata": {},
   "outputs": [],
   "source": [
    "try:\n",
    "    os.makedirs(results_dir)\n",
    "except FileExistsError:\n",
    "    pass"
   ]
  },
  {
   "cell_type": "code",
   "execution_count": 4,
   "metadata": {},
   "outputs": [],
   "source": [
    "epochs = 10\n",
    "batch_size = 256\n",
    "loss = 'mean_absolute_error'\n",
    "optimizer = 'adam'\n",
    "lr = 1.e-3\n",
    "\n",
    "activation = 'relu'\n",
    "initializer = 'he_normal'\n",
    "batch_norm = False\n",
    "dropout = 0\n",
    "units = [128, 128]\n",
    "\n",
    "train_size = 0.6\n",
    "test_size = 0.2\n",
    "val_size = 0.2"
   ]
  },
  {
   "cell_type": "code",
   "execution_count": 5,
   "metadata": {},
   "outputs": [],
   "source": [
    "jet_numerical = ['log_pt', 'eta', 'mass', 'phi', 'area', 'qgl_axis2', 'qgl_ptD', 'qgl_mult']\n",
    "pf_numerical = ['rel_pt', 'rel_eta', 'rel_phi', 'd0', 'dz', 'd0Err', 'dzErr', 'trkChi2', 'vtxChi2', 'puppiWeight', 'puppiWeightNoLep']"
   ]
  },
  {
   "cell_type": "code",
   "execution_count": 6,
   "metadata": {},
   "outputs": [],
   "source": [
    "categorical_map = {\n",
    "    'jet': {\n",
    "        'partonFlavour': [-5, -4, -3, -2, -1, 0, 1, 2, 3, 4, 5, 21]\n",
    "    },\n",
    "    'pf': {\n",
    "        'charge': [-1, 0, 1],\n",
    "        'lostInnerHits': [-1, 0, 1, 2],\n",
    "        'pdgId': [-211, -13, -11, 1, 2, 11, 13, 22, 130, 211],\n",
    "        'pvAssocQuality': [0, 1, 4, 5, 6, 7],\n",
    "        'trkQuality': [0, 1, 5]\n",
    "    }\n",
    "}"
   ]
  },
  {
   "cell_type": "code",
   "execution_count": 7,
   "metadata": {},
   "outputs": [],
   "source": [
    "jet_categorical = []\n",
    "for key, categories in categorical_map['jet'].items():\n",
    "    jet_categorical.extend([f'{key}_{i}' for i in range(len(categories))])\n",
    "    \n",
    "pf_categorical = []\n",
    "for key, categories in categorical_map['pf'].items():\n",
    "    pf_categorical.extend([f'{key}_{i}' for i in range(len(categories))])"
   ]
  },
  {
   "cell_type": "code",
   "execution_count": 8,
   "metadata": {},
   "outputs": [],
   "source": [
    "jet_fields = jet_numerical + jet_categorical\n",
    "pf_fields = pf_numerical + pf_categorical\n",
    "\n",
    "jet_keys = [f'jet_{field}' for field in jet_fields]\n",
    "pf_keys = [f'pf_{field}' for field in pf_fields]\n",
    "\n",
    "num_jet = len(jet_keys)\n",
    "num_pf = len(pf_keys)"
   ]
  },
  {
   "cell_type": "code",
   "execution_count": 9,
   "metadata": {},
   "outputs": [],
   "source": [
    "dirs = glob.glob(os.path.join(parquet_dir, '*'))\n",
    "num_dirs = len(dirs)\n",
    "train_split = int(train_size * num_dirs)\n",
    "test_split = int(test_size * num_dirs) + train_split\n",
    "\n",
    "train_dirs = dirs[:train_split]\n",
    "test_dirs = dirs[train_split:test_split]\n",
    "val_dirs = dirs[test_split:]"
   ]
  },
  {
   "cell_type": "code",
   "execution_count": 10,
   "metadata": {},
   "outputs": [
    {
     "data": {
      "text/plain": [
       "['/ssd-home/hdaniel/lab/jec-dnn/data-selected/test/1',\n",
       " '/ssd-home/hdaniel/lab/jec-dnn/data-selected/test/5',\n",
       " '/ssd-home/hdaniel/lab/jec-dnn/data-selected/test/2']"
      ]
     },
     "execution_count": 10,
     "metadata": {},
     "output_type": "execute_result"
    }
   ],
   "source": [
    "train_dirs"
   ]
  },
  {
   "cell_type": "code",
   "execution_count": 11,
   "metadata": {},
   "outputs": [],
   "source": [
    "def read_parquet(path):\n",
    "    path = path.decode()\n",
    "\n",
    "    jet = ak.from_parquet(os.path.join(path, 'jet.parquet'))\n",
    "    pf = ak.from_parquet(os.path.join(path, 'pf.parquet'))\n",
    "    \n",
    "    row_lengths = ak.num(pf, axis=1)\n",
    "    flat_pf = ak.flatten(pf, axis=1)\n",
    "    \n",
    "    data = [ak.to_numpy(row_lengths).astype(np.int32), ak.to_numpy(jet.target).astype(np.float32)]\n",
    "    \n",
    "    for field in jet_fields:\n",
    "        data.append(ak.to_numpy(jet[field]).astype(np.float32))\n",
    "\n",
    "    for field in pf_fields:\n",
    "        data.append(ak.to_numpy(flat_pf[field]).astype(np.float32))\n",
    "    \n",
    "    return data"
   ]
  },
  {
   "cell_type": "code",
   "execution_count": 12,
   "metadata": {},
   "outputs": [],
   "source": [
    "def read_parquet_wrapper(path):\n",
    "    inp = [path]\n",
    "    Tout = [tf.int32] + [tf.float32] + [tf.float32] * num_jet + [tf.float32] * num_pf\n",
    "    \n",
    "    cols = tf.numpy_function(read_parquet, inp=inp, Tout=Tout)\n",
    "    \n",
    "    keys = ['row_lengths'] + ['target'] + jet_keys + pf_keys\n",
    "    data = {key: value for key, value in zip(keys, cols)}\n",
    "    \n",
    "    target = data.pop('target')\n",
    "    target.set_shape((None,))\n",
    "    \n",
    "    row_lengths = data.pop('row_lengths')\n",
    "    row_lengths.set_shape((None,))\n",
    "    \n",
    "    for key in jet_keys:\n",
    "        # Shape from <unknown> to (None,)\n",
    "        data[key].set_shape((None,))\n",
    "        # Shape from (None,) to (None, 1)\n",
    "        data[key] = tf.expand_dims(data[key], axis=1)\n",
    "    \n",
    "    for key in pf_keys:\n",
    "        # Shape from <unknown> to (None,)\n",
    "        data[key].set_shape((None,))\n",
    "        # shape from (None,) to (None, None)\n",
    "        data[key] = tf.RaggedTensor.from_row_lengths(data[key], row_lengths=row_lengths)\n",
    "        # Shape from (None, None) to (None, None, 1)\n",
    "        data[key] = tf.expand_dims(data[key], axis=2)\n",
    "    \n",
    "    jet_data = tf.concat([data[key] for key in jet_keys], axis=1)\n",
    "    pf_data = tf.concat([data[key] for key in pf_keys], axis=2)\n",
    "    inputs = (pf_data, jet_data)\n",
    "    \n",
    "    return inputs, target"
   ]
  },
  {
   "cell_type": "code",
   "execution_count": 13,
   "metadata": {},
   "outputs": [],
   "source": [
    "def create_dataset(paths):\n",
    "    ds = tf.data.Dataset.from_tensor_slices(paths)\n",
    "    ds = ds.map(read_parquet_wrapper, num_parallel_calls=tf.data.AUTOTUNE)\n",
    "    ds = ds.unbatch().batch(batch_size)\n",
    "    ds = ds.prefetch(tf.data.AUTOTUNE)\n",
    "    return ds"
   ]
  },
  {
   "cell_type": "code",
   "execution_count": 14,
   "metadata": {},
   "outputs": [],
   "source": [
    "train_ds = create_dataset(train_dirs).shuffle(64)\n",
    "val_ds = create_dataset(val_dirs)\n",
    "test_ds = create_dataset(test_dirs)"
   ]
  },
  {
   "cell_type": "code",
   "execution_count": 15,
   "metadata": {},
   "outputs": [],
   "source": [
    "from tensorflow.keras import Input, Model\n",
    "from tensorflow.keras.layers import Activation, Dense, TimeDistributed, BatchNormalization, Dropout, Concatenate, Add, Layer"
   ]
  },
  {
   "cell_type": "code",
   "execution_count": 16,
   "metadata": {},
   "outputs": [],
   "source": [
    "class Sum(Layer):\n",
    "    def __init__(self, axis, **kwargs):\n",
    "        super().__init__(**kwargs)\n",
    "        self.axis = axis\n",
    "\n",
    "    def call(self, inputs):\n",
    "        return tf.math.reduce_sum(inputs, axis=self.axis)"
   ]
  },
  {
   "cell_type": "code",
   "execution_count": 17,
   "metadata": {},
   "outputs": [],
   "source": [
    "def get_deepset():\n",
    "    constituents = Input(shape=(None, num_pf), ragged=True, name='constituents')\n",
    "\n",
    "    constituents_slice = Input(shape=(constituents.shape[-1],), name='constituents_slice')\n",
    "\n",
    "    deepset_outputs_slice = mlp(constituents_slice, name='deepset')\n",
    "\n",
    "    deepset_model_slice = Model(inputs=constituents_slice, outputs=deepset_outputs_slice, name='deepset_model_slice')\n",
    "\n",
    "    deepset_outputs = TimeDistributed(deepset_model_slice, name='deepset_distributed')(constituents)\n",
    "\n",
    "    constituents_head = Sum(axis=1, name='constituents_head')(deepset_outputs)\n",
    "\n",
    "    globals = Input(shape=(num_jet,), name='globals')\n",
    "\n",
    "    inputs_head = Concatenate(name='head')([constituents_head, globals])\n",
    "\n",
    "    x = mlp(inputs_head, name='head')\n",
    "\n",
    "    outputs = Dense(1, name='head_dense_output')(x)\n",
    "\n",
    "    model = Model(inputs=[constituents, globals], outputs=outputs, name='dnn')\n",
    "\n",
    "    model.summary()\n",
    "\n",
    "    for layer in model.layers:\n",
    "        if isinstance(layer, TimeDistributed):\n",
    "            layer.layer.summary()\n",
    "\n",
    "    return model\n",
    "\n",
    "\n",
    "def mlp(x, name):\n",
    "    for idx, n in enumerate(units, start=1):\n",
    "        x = Dense(n, kernel_initializer=initializer, name=f'{name}_dense_{idx}')(x)\n",
    "        if batch_norm:\n",
    "            x = BatchNormalization(name=f'{name}_batch_normalization_{idx}')(x)\n",
    "        x = Activation(activation, name=f'{name}_activation_{idx}')(x)\n",
    "        if dropout:\n",
    "            x = Dropout(dropout, name=f'{name}_dropout_{idx}')(x)\n",
    "    return x"
   ]
  },
  {
   "cell_type": "code",
   "execution_count": 18,
   "metadata": {},
   "outputs": [
    {
     "name": "stdout",
     "output_type": "stream",
     "text": [
      "WARNING:tensorflow:There are non-GPU devices in `tf.distribute.Strategy`, not using nccl allreduce.\n",
      "INFO:tensorflow:Using MirroredStrategy with devices ('/job:localhost/replica:0/task:0/device:CPU:0',)\n",
      "Model: \"dnn\"\n",
      "__________________________________________________________________________________________________\n",
      "Layer (type)                    Output Shape         Param #     Connected to                     \n",
      "==================================================================================================\n",
      "constituents (InputLayer)       [(None, None, 37)]   0                                            \n",
      "__________________________________________________________________________________________________\n",
      "deepset_distributed (TimeDistri (None, None, 128)    21376       constituents[0][0]               \n",
      "__________________________________________________________________________________________________\n",
      "constituents_head (Sum)         (None, 128)          0           deepset_distributed[0][0]        \n",
      "__________________________________________________________________________________________________\n",
      "globals (InputLayer)            [(None, 20)]         0                                            \n",
      "__________________________________________________________________________________________________\n",
      "head (Concatenate)              (None, 148)          0           constituents_head[0][0]          \n",
      "                                                                 globals[0][0]                    \n",
      "__________________________________________________________________________________________________\n",
      "head_dense_1 (Dense)            (None, 128)          19072       head[0][0]                       \n",
      "__________________________________________________________________________________________________\n",
      "head_activation_1 (Activation)  (None, 128)          0           head_dense_1[0][0]               \n",
      "__________________________________________________________________________________________________\n",
      "head_dense_2 (Dense)            (None, 128)          16512       head_activation_1[0][0]          \n",
      "__________________________________________________________________________________________________\n",
      "head_activation_2 (Activation)  (None, 128)          0           head_dense_2[0][0]               \n",
      "__________________________________________________________________________________________________\n",
      "head_dense_output (Dense)       (None, 1)            129         head_activation_2[0][0]          \n",
      "==================================================================================================\n",
      "Total params: 57,089\n",
      "Trainable params: 57,089\n",
      "Non-trainable params: 0\n",
      "__________________________________________________________________________________________________\n",
      "Model: \"deepset_model_slice\"\n",
      "_________________________________________________________________\n",
      "Layer (type)                 Output Shape              Param #   \n",
      "=================================================================\n",
      "constituents_slice (InputLay [(None, 37)]              0         \n",
      "_________________________________________________________________\n",
      "deepset_dense_1 (Dense)      (None, 128)               4864      \n",
      "_________________________________________________________________\n",
      "deepset_activation_1 (Activa (None, 128)               0         \n",
      "_________________________________________________________________\n",
      "deepset_dense_2 (Dense)      (None, 128)               16512     \n",
      "_________________________________________________________________\n",
      "deepset_activation_2 (Activa (None, 128)               0         \n",
      "=================================================================\n",
      "Total params: 21,376\n",
      "Trainable params: 21,376\n",
      "Non-trainable params: 0\n",
      "_________________________________________________________________\n"
     ]
    }
   ],
   "source": [
    "strategy = tf.distribute.MirroredStrategy()\n",
    "with strategy.scope():\n",
    "    dnn = get_deepset()\n",
    "    dnn.compile(optimizer=optimizer, loss=loss)\n",
    "    dnn.optimizer.lr.assign(lr)"
   ]
  },
  {
   "cell_type": "code",
   "execution_count": 19,
   "metadata": {},
   "outputs": [],
   "source": [
    "# tf.keras.utils.plot_model(dnn, dpi=100, show_shapes=True, expand_nested=True)"
   ]
  },
  {
   "cell_type": "code",
   "execution_count": 22,
   "metadata": {},
   "outputs": [],
   "source": [
    "def get_callbacks():\n",
    "    # Reduce learning rate when nearing convergence\n",
    "    reduce_lr_on_plateau = tf.keras.callbacks.ReduceLROnPlateau(\n",
    "        monitor='val_loss', factor=0.2, patience=5, min_lr=1.0e-8,\n",
    "        mode='auto', min_delta=1.0e-4, cooldown=0, verbose=1\n",
    "    )\n",
    "    # Stop early if the network stops improving\n",
    "    early_stopping = tf.keras.callbacks.EarlyStopping(\n",
    "        monitor='val_loss', min_delta=1.0e-4, \n",
    "        patience=7, mode='auto', baseline=None, \n",
    "        restore_best_weights=True, verbose=1\n",
    "    )\n",
    "\n",
    "    return [reduce_lr_on_plateau, early_stopping]"
   ]
  },
  {
   "cell_type": "code",
   "execution_count": 23,
   "metadata": {},
   "outputs": [
    {
     "name": "stdout",
     "output_type": "stream",
     "text": [
      "Epoch 1/10\n",
      "3000/3000 [==============================] - 41s 10ms/step - loss: 0.8228 - val_loss: 0.1143\n",
      "Epoch 2/10\n",
      "3000/3000 [==============================] - 38s 10ms/step - loss: 0.1124 - val_loss: 0.0861\n",
      "Epoch 3/10\n",
      "3000/3000 [==============================] - 38s 10ms/step - loss: 0.0890 - val_loss: 0.0853\n",
      "Epoch 4/10\n",
      "3000/3000 [==============================] - 38s 10ms/step - loss: 0.0856 - val_loss: 0.0846\n",
      "Epoch 5/10\n",
      "3000/3000 [==============================] - 37s 10ms/step - loss: 0.0838 - val_loss: 0.0857\n",
      "Epoch 6/10\n",
      "3000/3000 [==============================] - 38s 9ms/step - loss: 0.0830 - val_loss: 0.0829\n",
      "Epoch 7/10\n",
      "3000/3000 [==============================] - 38s 9ms/step - loss: 0.0825 - val_loss: 0.0829\n",
      "Epoch 8/10\n",
      "3000/3000 [==============================] - 37s 9ms/step - loss: 0.0821 - val_loss: 0.0830\n",
      "Epoch 9/10\n",
      "3000/3000 [==============================] - 38s 10ms/step - loss: 0.0819 - val_loss: 0.0822\n",
      "Epoch 10/10\n",
      "3000/3000 [==============================] - 37s 9ms/step - loss: 0.0816 - val_loss: 0.0821\n"
     ]
    }
   ],
   "source": [
    "fit = dnn.fit(train_ds, validation_data=val_ds, epochs=epochs, callbacks=get_callbacks())"
   ]
  },
  {
   "cell_type": "code",
   "execution_count": 24,
   "metadata": {},
   "outputs": [],
   "source": [
    "predictions = dnn.predict(test_ds, use_multiprocessing=True, workers=os.cpu_count()-1)\n",
    "\n",
    "# Save predictions and corresponding test files\n",
    "with open(os.path.join(results_dir, 'predictions.pkl'), 'wb') as f:\n",
    "    pickle.dump((predictions, test_dirs), f)\n",
    "\n",
    "# Save training history\n",
    "with open(os.path.join(results_dir, 'history.pkl'), 'wb') as f:\n",
    "    pickle.dump(fit.history, f)"
   ]
  }
 ],
 "metadata": {
  "kernelspec": {
   "display_name": "Python 3",
   "language": "python",
   "name": "python3"
  },
  "kubeflow_notebook": {
   "autosnapshot": false,
   "docker_image": "gitlab-registry.cern.ch/dholmber/jec-dnn:latest",
   "experiment": {
    "id": "",
    "name": ""
   },
   "experiment_name": "",
   "katib_metadata": {
    "algorithm": {
     "algorithmName": "grid"
    },
    "maxFailedTrialCount": 3,
    "maxTrialCount": 12,
    "objective": {
     "objectiveMetricName": "",
     "type": "minimize"
    },
    "parallelTrialCount": 3,
    "parameters": []
   },
   "katib_run": false,
   "pipeline_description": "",
   "pipeline_name": "",
   "snapshot_volumes": false,
   "steps_defaults": [],
   "volume_access_mode": "rwm",
   "volumes": []
  },
  "language_info": {
   "codemirror_mode": {
    "name": "ipython",
    "version": 3
   },
   "file_extension": ".py",
   "mimetype": "text/x-python",
   "name": "python",
   "nbconvert_exporter": "python",
   "pygments_lexer": "ipython3",
   "version": "3.6.9"
  }
 },
 "nbformat": 4,
 "nbformat_minor": 4
}
