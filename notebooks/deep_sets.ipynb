{
 "cells": [
  {
   "cell_type": "code",
   "execution_count": null,
   "metadata": {},
   "outputs": [],
   "source": [
    "import tensorflow as tf\n",
    "import awkward as ak\n",
    "import numpy as np\n",
    "import glob\n",
    "import os"
   ]
  },
  {
   "cell_type": "code",
   "execution_count": null,
   "metadata": {},
   "outputs": [],
   "source": [
    "data_dir = '/eos/cms/store/group/phys_jetmet/dholmber/jec-dnn'\n",
    "parquet_dir = os.path.join(data_dir, 'preprocessed/dev')"
   ]
  },
  {
   "cell_type": "code",
   "execution_count": null,
   "metadata": {},
   "outputs": [],
   "source": [
    "epochs = 10\n",
    "batch_size = 256\n",
    "loss = 'mean_absolute_error'\n",
    "optimizer = 'adam'\n",
    "lr = 1.e-3\n",
    "\n",
    "activation = 'relu'\n",
    "initializer = 'he_normal'\n",
    "batch_norm = False\n",
    "dropout = 0\n",
    "units = [128, 128]\n",
    "\n",
    "train_size = 0.6\n",
    "test_size = 0.2\n",
    "val_size = 0.2"
   ]
  },
  {
   "cell_type": "code",
   "execution_count": null,
   "metadata": {},
   "outputs": [],
   "source": [
    "jet_numerical = ['pt_log', 'eta', 'mass', 'phi', 'area', 'qgl_axis2', 'qgl_ptD', 'qgl_mult']\n",
    "jet_categorical = ['puId', 'partonFlavour']\n",
    "\n",
    "pf_numerical = ['rel_pt', 'rel_eta', 'rel_phi', 'd0', 'dz', 'd0Err', 'dzErr', 'trkChi2', 'vtxChi2', 'puppiWeight', 'puppiWeightNoLep']\n",
    "pf_categorical = ['charge', 'lostInnerHits', 'pdgId', 'pvAssocQuality', 'trkQuality']"
   ]
  },
  {
   "cell_type": "code",
   "execution_count": null,
   "metadata": {},
   "outputs": [],
   "source": [
    "jet_fields = jet_numerical + jet_categorical\n",
    "pf_fields = pf_numerical + pf_categorical\n",
    "\n",
    "jet_keys = [f'jet_{field}' for field in jet_fields]\n",
    "pf_keys = [f'pf_{field}' for field in pf_fields]\n",
    "\n",
    "num_jet = len(jet_keys)\n",
    "num_pf = len(pf_keys)"
   ]
  },
  {
   "cell_type": "code",
   "execution_count": null,
   "metadata": {},
   "outputs": [],
   "source": [
    "dirs = glob.glob(os.path.join(parquet_dir, '*'))\n",
    "num_dirs = len(dirs)\n",
    "train_split = int(train_size * num_dirs)\n",
    "test_split = int(test_size * num_dirs) + train_split\n",
    "\n",
    "train_dirs = dirs[:train_split]\n",
    "test_dirs = dirs[train_split:test_split]\n",
    "val_dirs = dirs[test_split:]"
   ]
  },
  {
   "cell_type": "code",
   "execution_count": null,
   "metadata": {},
   "outputs": [],
   "source": [
    "train_dirs"
   ]
  },
  {
   "cell_type": "code",
   "execution_count": null,
   "metadata": {},
   "outputs": [],
   "source": [
    "def read_parquet(path):\n",
    "    path = path.decode()\n",
    "\n",
    "    jet = ak.from_parquet(os.path.join(path, 'jet.parquet'))\n",
    "    pf = ak.from_parquet(os.path.join(path, 'pf.parquet'))\n",
    "    \n",
    "    row_lengths = ak.num(pf, axis=1)\n",
    "    flat_pf = ak.flatten(pf, axis=1)\n",
    "    \n",
    "    data = [ak.to_numpy(row_lengths).astype(np.int32), ak.to_numpy(jet.target).astype(np.float32)]\n",
    "    \n",
    "    for field in jet_fields:\n",
    "        data.append(ak.to_numpy(jet[field]).astype(np.float32))\n",
    "\n",
    "    for field in pf_fields:\n",
    "        data.append(ak.to_numpy(flat_pf[field]).astype(np.float32))\n",
    "    \n",
    "    return data"
   ]
  },
  {
   "cell_type": "code",
   "execution_count": null,
   "metadata": {},
   "outputs": [],
   "source": [
    "def read_parquet_wrapper(path):\n",
    "    inp = [path]\n",
    "    Tout = [tf.int32] + [tf.float32] + [tf.float32] * num_jet + [tf.float32] * num_pf\n",
    "    \n",
    "    cols = tf.numpy_function(read_parquet, inp=inp, Tout=Tout)\n",
    "    \n",
    "    keys = ['row_lengths'] + ['target'] + jet_keys + pf_keys\n",
    "    data = {key: value for key, value in zip(keys, cols)}\n",
    "    \n",
    "    target = data.pop('target')\n",
    "    target.set_shape((None,))\n",
    "    \n",
    "    row_lengths = data.pop('row_lengths')\n",
    "    row_lengths.set_shape((None,))\n",
    "    \n",
    "    for field in jet_keys:\n",
    "        # Shape from <unknown> to (None,)\n",
    "        data[field].set_shape((None,))\n",
    "        # Shape from (None,) to (None, 1)\n",
    "        data[field] = tf.expand_dims(data[field], axis=1)\n",
    "    \n",
    "    for key in pf_keys:\n",
    "        # Shape from <unknown> to (None,)\n",
    "        data[key].set_shape((None,))\n",
    "        # shape from (None,) to (None, None)\n",
    "        data[key] = tf.RaggedTensor.from_row_lengths(data[key], row_lengths=row_lengths)\n",
    "        # Shape from (None, None) to (None, None, 1)\n",
    "        data[key] = tf.expand_dims(data[key], axis=2)\n",
    "    \n",
    "    jet_data = tf.concat([data[key] for key in jet_keys], axis=1)\n",
    "    pf_data = tf.concat([data[key] for key in pf_keys], axis=2)\n",
    "    inputs = (pf_data, jet_data)\n",
    "    \n",
    "    return inputs, target"
   ]
  },
  {
   "cell_type": "code",
   "execution_count": null,
   "metadata": {},
   "outputs": [],
   "source": [
    "def create_dataset(paths):\n",
    "    ds = tf.data.Dataset.from_tensor_slices(paths)\n",
    "    ds = ds.map(read_parquet_wrapper, num_parallel_calls=tf.data.AUTOTUNE)\n",
    "    ds = ds.unbatch().batch(256)\n",
    "    ds = ds.prefetch(tf.data.AUTOTUNE)\n",
    "    return ds"
   ]
  },
  {
   "cell_type": "code",
   "execution_count": null,
   "metadata": {},
   "outputs": [],
   "source": [
    "train_ds = create_dataset(train_dirs).shuffle(64)\n",
    "val_ds = create_dataset(val_dirs)\n",
    "test_ds = create_dataset(test_dirs)"
   ]
  },
  {
   "cell_type": "code",
   "execution_count": null,
   "metadata": {},
   "outputs": [],
   "source": [
    "from tensorflow.keras import Input, Model\n",
    "from tensorflow.keras.layers import Activation, Dense, TimeDistributed, BatchNormalization, Dropout, Concatenate, Add\n",
    "from src.layers import Sum"
   ]
  },
  {
   "cell_type": "code",
   "execution_count": null,
   "metadata": {},
   "outputs": [],
   "source": [
    "def get_deepset():\n",
    "    constituents = Input(shape=(None, num_pf), ragged=True, name='constituents')\n",
    "\n",
    "    constituents_slice = Input(shape=(constituents.shape[-1],), name='constituents_slice')\n",
    "\n",
    "    deepset_outputs_slice = mlp(constituents_slice, name='deepset')\n",
    "\n",
    "    deepset_model_slice = Model(inputs=constituents_slice, outputs=deepset_outputs_slice, name='deepset_model_slice')\n",
    "\n",
    "    deepset_outputs = TimeDistributed(deepset_model_slice, name='deepset_distributed')(constituents)\n",
    "\n",
    "    constituents_head = Sum(axis=1, name='constituents_head')(deepset_outputs)\n",
    "\n",
    "    globals = Input(shape=(num_jet,), name='globals')\n",
    "\n",
    "    inputs_head = Concatenate(name='head')([constituents_head, globals])\n",
    "\n",
    "    x = mlp(inputs_head, name='head')\n",
    "\n",
    "    outputs = Dense(1, name='head_dense_output')(x)\n",
    "\n",
    "    model = Model(inputs=[constituents, globals], outputs=outputs, name='dnn')\n",
    "\n",
    "    model.summary()\n",
    "\n",
    "    for layer in model.layers:\n",
    "        if isinstance(layer, TimeDistributed):\n",
    "            layer.layer.summary()\n",
    "\n",
    "    return model\n",
    "\n",
    "\n",
    "def mlp(x, name):\n",
    "    for idx, n in enumerate(units, start=1):\n",
    "        x = Dense(n, kernel_initializer=initializer, name=f'{name}_dense_{idx}')(x)\n",
    "        if batch_norm:\n",
    "            x = BatchNormalization(name=f'{name}_batch_normalization_{idx}')(x)\n",
    "        x = Activation(activation, name=f'{name}_activation_{idx}')(x)\n",
    "        if dropout:\n",
    "            x = Dropout(dropout, name=f'{name}_dropout_{idx}')(x)\n",
    "    return x"
   ]
  },
  {
   "cell_type": "code",
   "execution_count": null,
   "metadata": {},
   "outputs": [],
   "source": [
    "dnn = get_deepset()\n",
    "dnn.compile(optimizer=optimizer, loss=loss)\n",
    "dnn.optimizer.lr.assign(lr)"
   ]
  },
  {
   "cell_type": "code",
   "execution_count": null,
   "metadata": {},
   "outputs": [],
   "source": [
    "# tf.keras.utils.plot_model(dnn, dpi=100, show_shapes=True, expand_nested=True)"
   ]
  },
  {
   "cell_type": "code",
   "execution_count": null,
   "metadata": {},
   "outputs": [],
   "source": [
    "fit = dnn.fit(train_ds, validation_data=val_ds, epochs=epochs)"
   ]
  }
 ],
 "metadata": {
  "kernelspec": {
   "display_name": "Python 3",
   "language": "python",
   "name": "python3"
  },
  "kubeflow_notebook": {
   "autosnapshot": false,
   "docker_image": "gitlab-registry.cern.ch/dholmber/jec-dnn:latest",
   "experiment": {
    "id": "",
    "name": ""
   },
   "experiment_name": "",
   "katib_metadata": {
    "algorithm": {
     "algorithmName": "grid"
    },
    "maxFailedTrialCount": 3,
    "maxTrialCount": 12,
    "objective": {
     "objectiveMetricName": "",
     "type": "minimize"
    },
    "parallelTrialCount": 3,
    "parameters": []
   },
   "katib_run": false,
   "pipeline_description": "",
   "pipeline_name": "",
   "snapshot_volumes": false,
   "steps_defaults": [],
   "volume_access_mode": "rwm",
   "volumes": []
  },
  "language_info": {
   "codemirror_mode": {
    "name": "ipython",
    "version": 3
   },
   "file_extension": ".py",
   "mimetype": "text/x-python",
   "name": "python",
   "nbconvert_exporter": "python",
   "pygments_lexer": "ipython3",
   "version": "3.6.9"
  }
 },
 "nbformat": 4,
 "nbformat_minor": 4
}
