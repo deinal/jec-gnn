{
 "cells": [
  {
   "cell_type": "code",
   "execution_count": null,
   "metadata": {},
   "outputs": [],
   "source": [
    "import tensorflow as tf\n",
    "import awkward as ak\n",
    "import numpy as np\n",
    "import pickle\n",
    "import glob\n",
    "import sys\n",
    "import os\n",
    "\n",
    "parent_dir = os.path.dirname(os.getcwd())\n",
    "sys.path.append(parent_dir)"
   ]
  },
  {
   "cell_type": "code",
   "execution_count": null,
   "metadata": {},
   "outputs": [],
   "source": [
    "data_dir = '/eos/cms/store/group/phys_jetmet/dholmber/jec-dnn/preprocessed/dev'\n",
    "record_files = glob.glob(os.path.join(data_dir, '*.tfrecords'))"
   ]
  },
  {
   "cell_type": "code",
   "execution_count": null,
   "metadata": {},
   "outputs": [],
   "source": [
    "epochs = 10\n",
    "batch_size = 256\n",
    "shuffle_buffer = 64\n",
    "loss = 'mean_absolute_error'\n",
    "optimizer = 'adam'\n",
    "lr = 1.e-3\n",
    "\n",
    "activation = 'relu'\n",
    "initializer = 'he_normal'\n",
    "batch_norm = False\n",
    "dropout = 0\n",
    "units = [128, 128]\n",
    "\n",
    "train_size = 0.6\n",
    "test_size = 0.2\n",
    "val_size = 0.2"
   ]
  },
  {
   "cell_type": "code",
   "execution_count": null,
   "metadata": {},
   "outputs": [],
   "source": [
    "jet_numerical = ['log_pt', 'eta', 'mass', 'phi', 'area', 'qgl_axis2', 'qgl_ptD', 'qgl_mult']\n",
    "jet_categorical = ['puId', 'partonFlavour']\n",
    "\n",
    "pf_numerical = ['rel_pt', 'rel_eta', 'rel_phi', 'd0', 'dz', 'd0Err', 'dzErr', 'trkChi2', 'vtxChi2', 'puppiWeight', 'puppiWeightNoLep']\n",
    "pf_categorical = ['charge', 'lostInnerHits', 'pdgId', 'pvAssocQuality', 'trkQuality']"
   ]
  },
  {
   "cell_type": "code",
   "execution_count": null,
   "metadata": {},
   "outputs": [],
   "source": [
    "jet_fields = jet_numerical + jet_categorical\n",
    "pf_fields = pf_numerical + pf_categorical\n",
    "\n",
    "jet_keys = [f'jet_{field}' for field in jet_fields]\n",
    "pf_keys = [f'pf_{field}' for field in pf_fields]\n",
    "\n",
    "num_jet = len(jet_keys)\n",
    "num_pf = len(pf_keys)"
   ]
  },
  {
   "cell_type": "code",
   "execution_count": null,
   "metadata": {},
   "outputs": [],
   "source": [
    "with open(os.path.join(data_dir, 'metadata.pkl'), 'rb') as f:\n",
    "    metadata = pickle.load(f)"
   ]
  },
  {
   "cell_type": "code",
   "execution_count": null,
   "metadata": {},
   "outputs": [],
   "source": [
    "num_files = len(record_files)\n",
    "train_split = int(train_size * num_files)\n",
    "test_split = int(test_size * num_files) + train_split\n",
    "\n",
    "train_files = record_files[:train_split]\n",
    "test_files = record_files[train_split:test_split]\n",
    "val_files = record_files[test_split:]"
   ]
  },
  {
   "cell_type": "code",
   "execution_count": null,
   "metadata": {},
   "outputs": [],
   "source": [
    "def parse_record(example_proto):\n",
    "    return tf.io.parse_example(example_proto, features=metadata)"
   ]
  },
  {
   "cell_type": "code",
   "execution_count": null,
   "metadata": {},
   "outputs": [],
   "source": [
    "def select_features(data):\n",
    "    jet_data = tf.concat([tf.expand_dims(data[key].values, axis=1) for key in jet_keys], axis=1)\n",
    "    pf_data = tf.concat([tf.expand_dims(data[key].values, axis=1) for key in pf_keys], axis=1)\n",
    "    pf_data = tf.RaggedTensor.from_row_lengths(pf_data, row_lengths=data['row_lengths'].values)\n",
    "    inputs = (pf_data, jet_data)\n",
    "    return inputs, data['target'].values"
   ]
  },
  {
   "cell_type": "code",
   "execution_count": null,
   "metadata": {},
   "outputs": [],
   "source": [
    "def create_dataset(paths):\n",
    "    ds = tf.data.TFRecordDataset(filenames=[record_files], num_parallel_reads=tf.data.experimental.AUTOTUNE)\n",
    "    ds = ds.map(parse_record, num_parallel_calls=tf.data.experimental.AUTOTUNE)\n",
    "    ds = ds.map(select_features, num_parallel_calls=tf.data.experimental.AUTOTUNE)\n",
    "    ds = ds.unbatch().batch(batch_size)\n",
    "    ds = ds.prefetch(tf.data.experimental.AUTOTUNE)\n",
    "    return ds"
   ]
  },
  {
   "cell_type": "code",
   "execution_count": null,
   "metadata": {},
   "outputs": [],
   "source": [
    "train_ds = create_dataset(train_files).shuffle(shuffle_buffer)\n",
    "val_ds = create_dataset(val_files)\n",
    "test_ds = create_dataset(test_files)"
   ]
  },
  {
   "cell_type": "code",
   "execution_count": null,
   "metadata": {},
   "outputs": [],
   "source": [
    "from tensorflow.keras import Input, Model\n",
    "from tensorflow.keras.layers import Activation, Dense, TimeDistributed, BatchNormalization, Dropout, Concatenate, Add\n",
    "from src.layers import Sum"
   ]
  },
  {
   "cell_type": "code",
   "execution_count": null,
   "metadata": {},
   "outputs": [],
   "source": [
    "def get_deepset():\n",
    "    constituents = Input(shape=(None, num_pf), ragged=True, name='constituents')\n",
    "\n",
    "    constituents_slice = Input(shape=(constituents.shape[-1],), name='constituents_slice')\n",
    "    print(constituents)\n",
    "    print(constituents_slice)\n",
    "\n",
    "    deepset_outputs_slice = mlp(constituents_slice, name='deepset')\n",
    "\n",
    "    deepset_model_slice = Model(inputs=constituents_slice, outputs=deepset_outputs_slice, name='deepset_model_slice')\n",
    "\n",
    "    deepset_outputs = TimeDistributed(deepset_model_slice, name='deepset_distributed')(constituents)\n",
    "\n",
    "    constituents_head = Sum(axis=1, name='constituents_head')(deepset_outputs)\n",
    "\n",
    "    globals = Input(shape=(num_jet,), name='globals')\n",
    "\n",
    "    inputs_head = Concatenate(name='head')([constituents_head, globals])\n",
    "\n",
    "    x = mlp(inputs_head, name='head')\n",
    "\n",
    "    outputs = Dense(1, name='head_dense_output')(x)\n",
    "\n",
    "    model = Model(inputs=[constituents, globals], outputs=outputs, name='dnn')\n",
    "\n",
    "    model.summary()\n",
    "\n",
    "    for layer in model.layers:\n",
    "        if isinstance(layer, TimeDistributed):\n",
    "            layer.layer.summary()\n",
    "\n",
    "    return model\n",
    "\n",
    "\n",
    "def mlp(x, name):\n",
    "    for idx, n in enumerate(units, start=1):\n",
    "        print(n, x)\n",
    "        x = Dense(n, kernel_initializer=initializer, name=f'{name}_dense_{idx}')(x)\n",
    "        if batch_norm:\n",
    "            x = BatchNormalization(name=f'{name}_batch_normalization_{idx}')(x)\n",
    "        x = Activation(activation, name=f'{name}_activation_{idx}')(x)\n",
    "        if dropout:\n",
    "            x = Dropout(dropout, name=f'{name}_dropout_{idx}')(x)\n",
    "    return x"
   ]
  },
  {
   "cell_type": "code",
   "execution_count": null,
   "metadata": {},
   "outputs": [],
   "source": [
    "dnn = get_deepset()\n",
    "dnn.compile(optimizer=optimizer, loss=loss)\n",
    "dnn.optimizer.lr.assign(lr)"
   ]
  },
  {
   "cell_type": "code",
   "execution_count": null,
   "metadata": {},
   "outputs": [],
   "source": [
    "fit = dnn.fit(train_ds, validation_data=val_ds, epochs=epochs)"
   ]
  }
 ],
 "metadata": {
  "kernelspec": {
   "display_name": "Python 3",
   "language": "python",
   "name": "python3"
  },
  "kubeflow_notebook": {
   "autosnapshot": false,
   "docker_image": "gitlab-registry.cern.ch/ai-ml/kubeflow_images/tensorflow-notebook-gpu-2.1.0:v0.6.1-30",
   "experiment": {
    "id": "",
    "name": ""
   },
   "experiment_name": "",
   "katib_metadata": {
    "algorithm": {
     "algorithmName": "grid"
    },
    "maxFailedTrialCount": 3,
    "maxTrialCount": 12,
    "objective": {
     "objectiveMetricName": "",
     "type": "minimize"
    },
    "parallelTrialCount": 3,
    "parameters": []
   },
   "katib_run": false,
   "pipeline_description": "",
   "pipeline_name": "",
   "snapshot_volumes": false,
   "steps_defaults": [],
   "volume_access_mode": "rwm",
   "volumes": []
  },
  "language_info": {
   "codemirror_mode": {
    "name": "ipython",
    "version": 3
   },
   "file_extension": ".py",
   "mimetype": "text/x-python",
   "name": "python",
   "nbconvert_exporter": "python",
   "pygments_lexer": "ipython3",
   "version": "3.6.9"
  }
 },
 "nbformat": 4,
 "nbformat_minor": 4
}
