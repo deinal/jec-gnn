{
 "cells": [
  {
   "cell_type": "code",
   "execution_count": 1,
   "metadata": {},
   "outputs": [
    {
     "name": "stderr",
     "output_type": "stream",
     "text": [
      "2021-07-21 10:39:37.991001: W tensorflow/stream_executor/platform/default/dso_loader.cc:64] Could not load dynamic library 'libcudart.so.11.0'; dlerror: libcudart.so.11.0: cannot open shared object file: No such file or directory; LD_LIBRARY_PATH: /opt/nvidia-driver/lib64\n",
      "2021-07-21 10:39:37.991044: I tensorflow/stream_executor/cuda/cudart_stub.cc:29] Ignore above cudart dlerror if you do not have a GPU set up on your machine.\n"
     ]
    }
   ],
   "source": [
    "import tensorflow as tf\n",
    "import awkward as ak\n",
    "import numpy as np\n",
    "import glob\n",
    "import os"
   ]
  },
  {
   "cell_type": "code",
   "execution_count": 2,
   "metadata": {},
   "outputs": [],
   "source": [
    "data_dir = '/eos/cms/store/group/phys_jetmet/dholmber/jec-dnn'\n",
    "parquet_dir = os.path.join(data_dir, 'preprocessed/dev')"
   ]
  },
  {
   "cell_type": "code",
   "execution_count": 3,
   "metadata": {},
   "outputs": [],
   "source": [
    "epochs = 10\n",
    "batch_size = 256\n",
    "loss = 'mean_absolute_error'\n",
    "optimizer = 'adam'\n",
    "lr = 1.e-3\n",
    "\n",
    "activation = 'relu'\n",
    "initializer = 'he_normal'\n",
    "batch_norm = False\n",
    "dropout = 0\n",
    "units = [128, 128]\n",
    "\n",
    "train_size = 0.6\n",
    "test_size = 0.2\n",
    "val_size = 0.2"
   ]
  },
  {
   "cell_type": "code",
   "execution_count": 4,
   "metadata": {},
   "outputs": [],
   "source": [
    "jet_numerical = ['pt_log', 'eta', 'mass', 'phi', 'area', 'qgl_axis2', 'qgl_ptD', 'qgl_mult']\n",
    "jet_categorical = ['puId', 'partonFlavour']\n",
    "\n",
    "pf_numerical = ['rel_pt', 'rel_eta', 'rel_phi', 'd0', 'dz', 'd0Err', 'dzErr', 'trkChi2', 'vtxChi2', 'puppiWeight', 'puppiWeightNoLep']\n",
    "pf_categorical = ['charge', 'lostInnerHits', 'pdgId', 'pvAssocQuality', 'trkQuality']"
   ]
  },
  {
   "cell_type": "code",
   "execution_count": 5,
   "metadata": {},
   "outputs": [],
   "source": [
    "jet_fields = jet_numerical + jet_categorical\n",
    "pf_fields = pf_numerical + pf_categorical\n",
    "\n",
    "jet_keys = [f'jet_{field}' for field in jet_fields]\n",
    "pf_keys = [f'pf_{field}' for field in pf_fields]\n",
    "\n",
    "num_jet = len(jet_keys)\n",
    "num_pf = len(pf_keys)"
   ]
  },
  {
   "cell_type": "code",
   "execution_count": 6,
   "metadata": {},
   "outputs": [],
   "source": [
    "dirs = glob.glob(os.path.join(parquet_dir, '*'))\n",
    "num_dirs = len(dirs)\n",
    "train_split = int(train_size * num_dirs)\n",
    "test_split = int(test_size * num_dirs) + train_split\n",
    "\n",
    "train_dirs = dirs[:train_split]\n",
    "test_dirs = dirs[train_split:test_split]\n",
    "val_dirs = dirs[test_split:]"
   ]
  },
  {
   "cell_type": "code",
   "execution_count": 7,
   "metadata": {},
   "outputs": [
    {
     "data": {
      "text/plain": [
       "['/eos/cms/store/group/phys_jetmet/dholmber/jec-dnn/preprocessed/dev/1',\n",
       " '/eos/cms/store/group/phys_jetmet/dholmber/jec-dnn/preprocessed/dev/2',\n",
       " '/eos/cms/store/group/phys_jetmet/dholmber/jec-dnn/preprocessed/dev/3']"
      ]
     },
     "execution_count": 7,
     "metadata": {},
     "output_type": "execute_result"
    }
   ],
   "source": [
    "train_dirs"
   ]
  },
  {
   "cell_type": "code",
   "execution_count": 8,
   "metadata": {},
   "outputs": [],
   "source": [
    "def read_parquet(path):\n",
    "    path = path.decode()\n",
    "\n",
    "    jet = ak.from_parquet(os.path.join(path, 'jet.parquet'))\n",
    "    pf = ak.from_parquet(os.path.join(path, 'pf.parquet'))\n",
    "    \n",
    "    row_lengths = ak.num(pf, axis=1)\n",
    "    flat_pf = ak.flatten(pf, axis=1)\n",
    "    \n",
    "    data = [ak.to_numpy(row_lengths).astype(np.int32), ak.to_numpy(jet.target).astype(np.float32)]\n",
    "    \n",
    "    for field in jet_fields:\n",
    "        data.append(ak.to_numpy(jet[field]).astype(np.float32))\n",
    "\n",
    "    for field in pf_fields:\n",
    "        data.append(ak.to_numpy(flat_pf[field]).astype(np.float32))\n",
    "    \n",
    "    return data"
   ]
  },
  {
   "cell_type": "code",
   "execution_count": 9,
   "metadata": {},
   "outputs": [],
   "source": [
    "def read_parquet_wrapper(path):\n",
    "    inp = [path]\n",
    "    Tout = [tf.int32] + [tf.float32] + [tf.float32] * num_jet + [tf.float32] * num_pf\n",
    "    \n",
    "    cols = tf.numpy_function(read_parquet, inp=inp, Tout=Tout)\n",
    "    \n",
    "    keys = ['row_lengths'] + ['target'] + jet_keys + pf_keys\n",
    "    data = {key: value for key, value in zip(keys, cols)}\n",
    "    \n",
    "    target = data.pop('target')\n",
    "    target.set_shape((None,))\n",
    "    \n",
    "    row_lengths = data.pop('row_lengths')\n",
    "    row_lengths.set_shape((None,))\n",
    "    \n",
    "    for field in jet_keys:\n",
    "        # Shape from <unknown> to (None,)\n",
    "        data[field].set_shape((None,))\n",
    "        # Shape from (None,) to (None, 1)\n",
    "        data[field] = tf.expand_dims(data[field], axis=1)\n",
    "    \n",
    "    for key in pf_keys:\n",
    "        # Shape from <unknown> to (None,)\n",
    "        data[key].set_shape((None,))\n",
    "        # shape from (None,) to (None, None)\n",
    "        data[key] = tf.RaggedTensor.from_row_lengths(data[key], row_lengths=row_lengths)\n",
    "        # Shape from (None, None) to (None, None, 1)\n",
    "        data[key] = tf.expand_dims(data[key], axis=2)\n",
    "    \n",
    "    jet_data = tf.concat([data[key] for key in jet_keys], axis=1)\n",
    "    pf_data = tf.concat([data[key] for key in pf_keys], axis=2)\n",
    "    inputs = (pf_data, jet_data)\n",
    "    \n",
    "    return inputs, target"
   ]
  },
  {
   "cell_type": "code",
   "execution_count": 10,
   "metadata": {},
   "outputs": [],
   "source": [
    "def create_dataset(paths):\n",
    "    ds = tf.data.Dataset.from_tensor_slices(paths)\n",
    "    ds = ds.map(read_parquet_wrapper, num_parallel_calls=tf.data.AUTOTUNE)\n",
    "    ds = ds.unbatch().batch(256)\n",
    "    ds = ds.prefetch(tf.data.AUTOTUNE)\n",
    "    return ds"
   ]
  },
  {
   "cell_type": "code",
   "execution_count": 11,
   "metadata": {},
   "outputs": [
    {
     "name": "stderr",
     "output_type": "stream",
     "text": [
      "2021-07-21 10:39:40.635578: I tensorflow/stream_executor/platform/default/dso_loader.cc:53] Successfully opened dynamic library libcuda.so.1\n",
      "2021-07-21 10:39:40.640089: I tensorflow/stream_executor/cuda/cuda_gpu_executor.cc:937] successful NUMA node read from SysFS had negative value (-1), but there must be at least one NUMA node, so returning NUMA node zero\n",
      "2021-07-21 10:39:40.641201: I tensorflow/core/common_runtime/gpu/gpu_device.cc:1733] Found device 0 with properties: \n",
      "pciBusID: 0000:00:07.0 name: Tesla V100S-PCIE-32GB computeCapability: 7.0\n",
      "coreClock: 1.597GHz coreCount: 80 deviceMemorySize: 31.75GiB deviceMemoryBandwidth: 1.03TiB/s\n",
      "2021-07-21 10:39:40.641352: W tensorflow/stream_executor/platform/default/dso_loader.cc:64] Could not load dynamic library 'libcudart.so.11.0'; dlerror: libcudart.so.11.0: cannot open shared object file: No such file or directory; LD_LIBRARY_PATH: /opt/nvidia-driver/lib64\n",
      "2021-07-21 10:39:40.641441: W tensorflow/stream_executor/platform/default/dso_loader.cc:64] Could not load dynamic library 'libcublas.so.11'; dlerror: libcublas.so.11: cannot open shared object file: No such file or directory; LD_LIBRARY_PATH: /opt/nvidia-driver/lib64\n",
      "2021-07-21 10:39:40.641521: W tensorflow/stream_executor/platform/default/dso_loader.cc:64] Could not load dynamic library 'libcublasLt.so.11'; dlerror: libcublasLt.so.11: cannot open shared object file: No such file or directory; LD_LIBRARY_PATH: /opt/nvidia-driver/lib64\n",
      "2021-07-21 10:39:40.641602: W tensorflow/stream_executor/platform/default/dso_loader.cc:64] Could not load dynamic library 'libcufft.so.10'; dlerror: libcufft.so.10: cannot open shared object file: No such file or directory; LD_LIBRARY_PATH: /opt/nvidia-driver/lib64\n",
      "2021-07-21 10:39:40.641681: W tensorflow/stream_executor/platform/default/dso_loader.cc:64] Could not load dynamic library 'libcurand.so.10'; dlerror: libcurand.so.10: cannot open shared object file: No such file or directory; LD_LIBRARY_PATH: /opt/nvidia-driver/lib64\n",
      "2021-07-21 10:39:40.641796: W tensorflow/stream_executor/platform/default/dso_loader.cc:64] Could not load dynamic library 'libcusolver.so.11'; dlerror: libcusolver.so.11: cannot open shared object file: No such file or directory; LD_LIBRARY_PATH: /opt/nvidia-driver/lib64\n",
      "2021-07-21 10:39:40.641890: W tensorflow/stream_executor/platform/default/dso_loader.cc:64] Could not load dynamic library 'libcusparse.so.11'; dlerror: libcusparse.so.11: cannot open shared object file: No such file or directory; LD_LIBRARY_PATH: /opt/nvidia-driver/lib64\n",
      "2021-07-21 10:39:40.641987: W tensorflow/stream_executor/platform/default/dso_loader.cc:64] Could not load dynamic library 'libcudnn.so.8'; dlerror: libcudnn.so.8: cannot open shared object file: No such file or directory; LD_LIBRARY_PATH: /opt/nvidia-driver/lib64\n",
      "2021-07-21 10:39:40.642011: W tensorflow/core/common_runtime/gpu/gpu_device.cc:1766] Cannot dlopen some GPU libraries. Please make sure the missing libraries mentioned above are installed properly if you would like to use GPU. Follow the guide at https://www.tensorflow.org/install/gpu for how to download and setup the required libraries for your platform.\n",
      "Skipping registering GPU devices...\n",
      "2021-07-21 10:39:40.642560: I tensorflow/core/platform/cpu_feature_guard.cc:142] This TensorFlow binary is optimized with oneAPI Deep Neural Network Library (oneDNN) to use the following CPU instructions in performance-critical operations:  AVX2 AVX512F FMA\n",
      "To enable them in other operations, rebuild TensorFlow with the appropriate compiler flags.\n",
      "2021-07-21 10:39:40.643103: I tensorflow/core/common_runtime/gpu/gpu_device.cc:1258] Device interconnect StreamExecutor with strength 1 edge matrix:\n",
      "2021-07-21 10:39:40.643128: I tensorflow/core/common_runtime/gpu/gpu_device.cc:1264]      \n"
     ]
    }
   ],
   "source": [
    "train_ds = create_dataset(train_dirs).shuffle(64)\n",
    "val_ds = create_dataset(val_dirs)\n",
    "test_ds = create_dataset(test_dirs)"
   ]
  },
  {
   "cell_type": "code",
   "execution_count": 12,
   "metadata": {},
   "outputs": [],
   "source": [
    "from tensorflow.keras import Input, Model\n",
    "from tensorflow.keras.layers import Activation, Dense, TimeDistributed, BatchNormalization, Dropout, Concatenate, Add\n",
    "from src.layers import Sum"
   ]
  },
  {
   "cell_type": "code",
   "execution_count": 13,
   "metadata": {},
   "outputs": [],
   "source": [
    "def get_deepset():\n",
    "    constituents = Input(shape=(None, num_pf), ragged=True, name='constituents')\n",
    "\n",
    "    constituents_slice = Input(shape=(constituents.shape[-1],), name='constituents_slice')\n",
    "\n",
    "    deepset_outputs_slice = mlp(constituents_slice, name='deepset')\n",
    "\n",
    "    deepset_model_slice = Model(inputs=constituents_slice, outputs=deepset_outputs_slice, name='deepset_model_slice')\n",
    "\n",
    "    deepset_outputs = TimeDistributed(deepset_model_slice, name='deepset_distributed')(constituents)\n",
    "\n",
    "    constituents_head = Sum(axis=1, name='constituents_head')(deepset_outputs)\n",
    "\n",
    "    globals = Input(shape=(num_jet,), name='globals')\n",
    "\n",
    "    inputs_head = Concatenate(name='head')([constituents_head, globals])\n",
    "\n",
    "    x = mlp(inputs_head, name='head')\n",
    "\n",
    "    outputs = Dense(1, name='head_dense_output')(x)\n",
    "\n",
    "    model = Model(inputs=[constituents, globals], outputs=outputs, name='dnn')\n",
    "\n",
    "    model.summary()\n",
    "\n",
    "    for layer in model.layers:\n",
    "        if isinstance(layer, TimeDistributed):\n",
    "            layer.layer.summary()\n",
    "\n",
    "    return model\n",
    "\n",
    "\n",
    "def mlp(x, name):\n",
    "    for idx, n in enumerate(units, start=1):\n",
    "        x = Dense(n, kernel_initializer=initializer, name=f'{name}_dense_{idx}')(x)\n",
    "        if batch_norm:\n",
    "            x = BatchNormalization(name=f'{name}_batch_normalization_{idx}')(x)\n",
    "        x = Activation(activation, name=f'{name}_activation_{idx}')(x)\n",
    "        if dropout:\n",
    "            x = Dropout(dropout, name=f'{name}_dropout_{idx}')(x)\n",
    "    return x"
   ]
  },
  {
   "cell_type": "code",
   "execution_count": 14,
   "metadata": {},
   "outputs": [
    {
     "name": "stdout",
     "output_type": "stream",
     "text": [
      "Model: \"dnn\"\n",
      "__________________________________________________________________________________________________\n",
      "Layer (type)                    Output Shape         Param #     Connected to                     \n",
      "==================================================================================================\n",
      "constituents (InputLayer)       [(None, None, 16)]   0                                            \n",
      "__________________________________________________________________________________________________\n",
      "deepset_distributed (TimeDistri (None, None, 128)    18688       constituents[0][0]               \n",
      "__________________________________________________________________________________________________\n",
      "constituents_head (Sum)         (None, 128)          0           deepset_distributed[0][0]        \n",
      "__________________________________________________________________________________________________\n",
      "globals (InputLayer)            [(None, 10)]         0                                            \n",
      "__________________________________________________________________________________________________\n",
      "head (Concatenate)              (None, 138)          0           constituents_head[0][0]          \n",
      "                                                                 globals[0][0]                    \n",
      "__________________________________________________________________________________________________\n",
      "head_dense_1 (Dense)            (None, 128)          17792       head[0][0]                       \n",
      "__________________________________________________________________________________________________\n",
      "head_activation_1 (Activation)  (None, 128)          0           head_dense_1[0][0]               \n",
      "__________________________________________________________________________________________________\n",
      "head_dense_2 (Dense)            (None, 128)          16512       head_activation_1[0][0]          \n",
      "__________________________________________________________________________________________________\n",
      "head_activation_2 (Activation)  (None, 128)          0           head_dense_2[0][0]               \n",
      "__________________________________________________________________________________________________\n",
      "head_dense_output (Dense)       (None, 1)            129         head_activation_2[0][0]          \n",
      "==================================================================================================\n",
      "Total params: 53,121\n",
      "Trainable params: 53,121\n",
      "Non-trainable params: 0\n",
      "__________________________________________________________________________________________________\n",
      "Model: \"deepset_model_slice\"\n",
      "_________________________________________________________________\n",
      "Layer (type)                 Output Shape              Param #   \n",
      "=================================================================\n",
      "constituents_slice (InputLay [(None, 16)]              0         \n",
      "_________________________________________________________________\n",
      "deepset_dense_1 (Dense)      (None, 128)               2176      \n",
      "_________________________________________________________________\n",
      "deepset_activation_1 (Activa (None, 128)               0         \n",
      "_________________________________________________________________\n",
      "deepset_dense_2 (Dense)      (None, 128)               16512     \n",
      "_________________________________________________________________\n",
      "deepset_activation_2 (Activa (None, 128)               0         \n",
      "=================================================================\n",
      "Total params: 18,688\n",
      "Trainable params: 18,688\n",
      "Non-trainable params: 0\n",
      "_________________________________________________________________\n"
     ]
    },
    {
     "data": {
      "text/plain": [
       "<tf.Variable 'UnreadVariable' shape=() dtype=float32, numpy=0.001>"
      ]
     },
     "execution_count": 14,
     "metadata": {},
     "output_type": "execute_result"
    }
   ],
   "source": [
    "dnn = get_deepset()\n",
    "dnn.compile(optimizer=optimizer, loss=loss)\n",
    "dnn.optimizer.lr.assign(lr)"
   ]
  },
  {
   "cell_type": "code",
   "execution_count": 15,
   "metadata": {},
   "outputs": [],
   "source": [
    "# tf.keras.utils.plot_model(dnn, dpi=100, show_shapes=True, expand_nested=True)"
   ]
  },
  {
   "cell_type": "code",
   "execution_count": 16,
   "metadata": {},
   "outputs": [
    {
     "name": "stdout",
     "output_type": "stream",
     "text": [
      "Epoch 1/10\n"
     ]
    },
    {
     "name": "stderr",
     "output_type": "stream",
     "text": [
      "2021-07-21 10:39:43.750988: I tensorflow/compiler/mlir/mlir_graph_optimization_pass.cc:176] None of the MLIR Optimization Passes are enabled (registered 2)\n",
      "2021-07-21 10:39:43.754605: I tensorflow/core/platform/profile_utils/cpu_utils.cc:114] CPU Frequency: 2100175000 Hz\n"
     ]
    },
    {
     "name": "stdout",
     "output_type": "stream",
     "text": [
      "2/2 [==============================] - 2s 803ms/step - loss: 1438.4425 - val_loss: 1322.6814\n",
      "Epoch 2/10\n",
      "2/2 [==============================] - 1s 582ms/step - loss: 1153.6982 - val_loss: 531.4918\n",
      "Epoch 3/10\n",
      "2/2 [==============================] - 1s 599ms/step - loss: 877.6226 - val_loss: 698.4968\n",
      "Epoch 4/10\n",
      "2/2 [==============================] - 1s 586ms/step - loss: 557.2278 - val_loss: 559.0278\n",
      "Epoch 5/10\n",
      "2/2 [==============================] - 1s 606ms/step - loss: 831.9586 - val_loss: 704.8033\n",
      "Epoch 6/10\n",
      "2/2 [==============================] - 1s 598ms/step - loss: 612.8802 - val_loss: 304.8661\n",
      "Epoch 7/10\n",
      "2/2 [==============================] - 1s 590ms/step - loss: 454.6659 - val_loss: 443.7791\n",
      "Epoch 8/10\n",
      "2/2 [==============================] - 1s 604ms/step - loss: 365.5227 - val_loss: 233.1179\n",
      "Epoch 9/10\n",
      "2/2 [==============================] - 1s 611ms/step - loss: 348.2844 - val_loss: 362.0237\n",
      "Epoch 10/10\n",
      "2/2 [==============================] - 1s 591ms/step - loss: 305.9380 - val_loss: 226.7576\n"
     ]
    }
   ],
   "source": [
    "fit = dnn.fit(train_ds, validation_data=val_ds, epochs=epochs)"
   ]
  }
 ],
 "metadata": {
  "kernelspec": {
   "display_name": "Python 3 (ipykernel)",
   "language": "python",
   "name": "python3"
  },
  "kubeflow_notebook": {
   "autosnapshot": false,
   "docker_image": "gitlab-registry.cern.ch/dholmber/jec-dnn:latest",
   "experiment": {
    "id": "",
    "name": ""
   },
   "experiment_name": "",
   "katib_metadata": {
    "algorithm": {
     "algorithmName": "grid"
    },
    "maxFailedTrialCount": 3,
    "maxTrialCount": 12,
    "objective": {
     "objectiveMetricName": "",
     "type": "minimize"
    },
    "parallelTrialCount": 3,
    "parameters": []
   },
   "katib_run": false,
   "pipeline_description": "",
   "pipeline_name": "",
   "snapshot_volumes": false,
   "steps_defaults": [],
   "volume_access_mode": "rwm",
   "volumes": []
  },
  "language_info": {
   "codemirror_mode": {
    "name": "ipython",
    "version": 3
   },
   "file_extension": ".py",
   "mimetype": "text/x-python",
   "name": "python",
   "nbconvert_exporter": "python",
   "pygments_lexer": "ipython3",
   "version": "3.8.0"
  }
 },
 "nbformat": 4,
 "nbformat_minor": 4
}
