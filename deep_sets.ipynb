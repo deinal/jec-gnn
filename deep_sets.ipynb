{
 "cells": [
  {
   "cell_type": "code",
   "execution_count": null,
   "metadata": {},
   "outputs": [],
   "source": [
    "import tensorflow as tf\n",
    "import awkward as ak\n",
    "import glob\n",
    "import os"
   ]
  },
  {
   "cell_type": "code",
   "execution_count": null,
   "metadata": {},
   "outputs": [],
   "source": [
    "jet_numerical = ['pt', 'eta', 'mass', 'phi', 'area', 'qgl_axis2', 'qgl_ptD', 'qgl_mult']\n",
    "jet_categorical = ['puId', 'partonFlavour']\n",
    "\n",
    "pf_numerical = ['pt', 'eta', 'phi', 'd0', 'dz', 'd0Err', 'dzErr', 'trkChi2', 'vtxChi2', 'puppiWeight', 'puppiWeightNoLep']\n",
    "pf_categorical = ['charge', 'lostInnerHits', 'pdgId', 'pvAssocQuality', 'trkQuality']"
   ]
  },
  {
   "cell_type": "code",
   "execution_count": null,
   "metadata": {},
   "outputs": [],
   "source": [
    "data_dir = '/eos/cms/store/group/phys_jetmet/dholmber/jec-dnn'\n",
    "\n",
    "parquet_dir = os.path.join(data_dir, 'preprocessed/dev')"
   ]
  },
  {
   "cell_type": "code",
   "execution_count": null,
   "metadata": {},
   "outputs": [],
   "source": [
    "train_size = 0.6\n",
    "test_size = 0.2\n",
    "val_size = 0.2\n",
    "\n",
    "dirs = glob.glob(os.path.join(parquet_dir, '*'))\n",
    "num_dirs = len(dirs)\n",
    "train_split = int(train_size * num_dirs)\n",
    "test_split = int(test_size * num_dirs) + train_split\n",
    "\n",
    "train_dirs = dirs[:train_split]\n",
    "test_dirs = dirs[train_split:test_split]\n",
    "val_dirs = dirs[test_split:]"
   ]
  },
  {
   "cell_type": "code",
   "execution_count": null,
   "metadata": {},
   "outputs": [],
   "source": [
    "train_dirs"
   ]
  },
  {
   "cell_type": "code",
   "execution_count": null,
   "metadata": {},
   "outputs": [],
   "source": [
    "def read_parquet(path):\n",
    "    path = path.decode()\n",
    "    \n",
    "    jet = ak.from_parquet(os.path.join(path, 'jet.parquet'))\n",
    "    pf = ak.from_parquet(os.path.join(path, 'pf.parquet'))\n",
    "    \n",
    "    row_lengths = ak.num(pf, axis=1)\n",
    "    flat_pf = ak.flatten(constituents, axis=1)\n",
    "    \n",
    "    data = [ak.to_numpy(row_lengths).astype(np.int32), ak.to_numpy(jet['target']).astype(np.float32)]\n",
    "    \n",
    "    for field in jet_numerical:\n",
    "        data.append(ak.to_numpy(jet[field]).astype(np.float32))\n",
    "\n",
    "    for field in jet_categorical:\n",
    "        data.append(ak.to_numpy(jet[field]).astype(np.int32))\n",
    "\n",
    "    for field in pf_numerical:\n",
    "        data.append(ak.to_numpy(flat_pf[field]).astype(np.float32))\n",
    "\n",
    "    for field in pf_categorical:\n",
    "        data.append(ak.to_numpy(flat_pf[field]).astype(np.int32))\n",
    "    \n",
    "    return jet, pf"
   ]
  },
  {
   "cell_type": "code",
   "execution_count": null,
   "metadata": {},
   "outputs": [],
   "source": [
    "def read_parquet_wrapper(path, jet_fields, pf_fields):\n",
    "    inp = path, jet_fields, pf_fields\n",
    "    Tout = (\n",
    "        [tf.int32] + [tf.float32] +\n",
    "        [tf.float32] * len(jet_numerical) +\n",
    "        [tf.int32] * len(jet_categorical) +\n",
    "        [tf.float32] * len(pf_numerical) +\n",
    "        [tf.int32] * len(pf_categorical)\n",
    "    )\n",
    "    \n",
    "    cols = tf.numpy_function(read_parquet, inp=inp, Tout=Tout)\n",
    "    \n",
    "    keys = ['row_lengths'] + ['target'] + jet_fields + pf_fields\n",
    "    data = {key: value for key, value in zip(keys, cols)}\n",
    "    \n",
    "    target = data.pop('target')\n",
    "    target.set_shape((None,))\n",
    "    \n",
    "    row_lengths = data.pop('row_lengths')\n",
    "    row_lengths.set_shape((None,))\n",
    "    \n",
    "    for field in jet_fields:\n",
    "        # Shape from <unknown> to (None,)\n",
    "        data[field].set_shape((None,))\n",
    "        # Shape from (None,) to (None, 1)\n",
    "        data[field] = tf.expand_dims(data[field], axis=1)\n",
    "    \n",
    "    for field in pf_fields:\n",
    "        # Shape from <unknown> to (None,)\n",
    "        data[field].set_shape((None,))\n",
    "        # shape from (None,) to (None, None)\n",
    "        data[field] = tf.RaggedTensor.from_row_lengths(data[field], row_lengths=row_lengths)\n",
    "        # Shape from (None, None) to (None, None, 1)\n",
    "        data[field] = tf.expand_dims(data[field], axis=2)"
   ]
  },
  {
   "cell_type": "code",
   "execution_count": null,
   "metadata": {},
   "outputs": [],
   "source": [
    "ds = tf.data.Dataset.from_tensor_slices(train_dirs)"
   ]
  },
  {
   "cell_type": "code",
   "execution_count": null,
   "metadata": {},
   "outputs": [],
   "source": [
    "#list(ds.as_numpy_iterator())"
   ]
  },
  {
   "cell_type": "code",
   "execution_count": null,
   "metadata": {},
   "outputs": [],
   "source": [
    "import tensorflow_io as tfio\n",
    "tfio.IOTensor.from_parquet('/eos/cms/store/group/phys_jetmet/dholmber/jec-dnn/preprocessed/dev/1/pf.parquet')"
   ]
  },
  {
   "cell_type": "code",
   "execution_count": null,
   "metadata": {},
   "outputs": [],
   "source": [
    "ak.from_parquet('/eos/cms/store/group/phys_jetmet/dholmber/jec-dnn/preprocessed/dev/1/jet.parquet')"
   ]
  },
  {
   "cell_type": "code",
   "execution_count": null,
   "metadata": {},
   "outputs": [],
   "source": [
    "ds = ds.map(\n",
    "    lambda path: read_parquet(path), \n",
    "    num_parallel_calls=tf.data.AUTOTUNE\n",
    ")"
   ]
  },
  {
   "cell_type": "code",
   "execution_count": null,
   "metadata": {},
   "outputs": [],
   "source": [
    "tfio.IOTensor"
   ]
  },
  {
   "cell_type": "code",
   "execution_count": null,
   "metadata": {},
   "outputs": [],
   "source": []
  }
 ],
 "metadata": {
  "kernelspec": {
   "display_name": "Python 3 (ipykernel)",
   "language": "python",
   "name": "python3"
  },
  "kubeflow_notebook": {
   "autosnapshot": false,
   "docker_image": "gitlab-registry.cern.ch/dholmber/jec-dnn:latest",
   "experiment": {
    "id": "",
    "name": ""
   },
   "experiment_name": "",
   "katib_metadata": {
    "algorithm": {
     "algorithmName": "grid"
    },
    "maxFailedTrialCount": 3,
    "maxTrialCount": 12,
    "objective": {
     "objectiveMetricName": "",
     "type": "minimize"
    },
    "parallelTrialCount": 3,
    "parameters": []
   },
   "katib_run": false,
   "pipeline_description": "",
   "pipeline_name": "",
   "snapshot_volumes": false,
   "steps_defaults": [],
   "volume_access_mode": "rwm",
   "volumes": []
  },
  "language_info": {
   "codemirror_mode": {
    "name": "ipython",
    "version": 3
   },
   "file_extension": ".py",
   "mimetype": "text/x-python",
   "name": "python",
   "nbconvert_exporter": "python",
   "pygments_lexer": "ipython3",
   "version": "3.8.0"
  }
 },
 "nbformat": 4,
 "nbformat_minor": 4
}
